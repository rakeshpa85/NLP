{
  "cells": [
    {
      "cell_type": "markdown",
      "metadata": {
        "id": "view-in-github",
        "colab_type": "text"
      },
      "source": [
        "<a href=\"https://colab.research.google.com/github/rakeshpa85/NLP/blob/main/NLP_MiniProject_RakeshPA.ipynb\" target=\"_parent\"><img src=\"https://colab.research.google.com/assets/colab-badge.svg\" alt=\"Open In Colab\"/></a>"
      ]
    },
    {
      "cell_type": "code",
      "execution_count": 1,
      "metadata": {
        "id": "w6EiN_pL9OOp",
        "colab": {
          "base_uri": "https://localhost:8080/"
        },
        "outputId": "6260c01c-009d-4a0a-c636-a368e32ab718"
      },
      "outputs": [
        {
          "output_type": "stream",
          "name": "stderr",
          "text": [
            "[nltk_data] Downloading package punkt to /root/nltk_data...\n",
            "[nltk_data]   Unzipping tokenizers/punkt.zip.\n",
            "[nltk_data] Downloading package stopwords to /root/nltk_data...\n",
            "[nltk_data]   Unzipping corpora/stopwords.zip.\n",
            "[nltk_data] Downloading package wordnet to /root/nltk_data...\n"
          ]
        },
        {
          "output_type": "execute_result",
          "data": {
            "text/plain": [
              "True"
            ]
          },
          "metadata": {},
          "execution_count": 1
        }
      ],
      "source": [
        "import pandas as pd\n",
        "import numpy as np\n",
        "import seaborn as sns\n",
        "\n",
        "from sklearn.utils import shuffle\n",
        "import matplotlib.pyplot as plt\n",
        "from nltk.tokenize import RegexpTokenizer\n",
        "\n",
        "import nltk\n",
        "\n",
        "from nltk.corpus import stopwords\n",
        "\n",
        "from nltk.tokenize import word_tokenize \n",
        "from nltk.stem import LancasterStemmer\n",
        "from nltk.stem.wordnet import WordNetLemmatizer\n",
        "from sklearn.model_selection import train_test_split\n",
        "from sklearn.feature_extraction.text import CountVectorizer\n",
        "from sklearn.feature_extraction.text import TfidfTransformer\n",
        "from sklearn.feature_extraction.text import TfidfVectorizer\n",
        "\n",
        "from sklearn import model_selection, naive_bayes, svm\n",
        "from sklearn.preprocessing import LabelEncoder\n",
        "from sklearn.metrics import accuracy_score\n",
        "\n",
        "from sklearn.svm import SVC\n",
        "from sklearn.naive_bayes import GaussianNB\n",
        "\n",
        "from sklearn.linear_model import LogisticRegression\n",
        "from sklearn import metrics\n",
        "from sklearn.naive_bayes import MultinomialNB\n",
        "from textblob import TextBlob\n",
        "\n",
        "from sklearn.discriminant_analysis import LinearDiscriminantAnalysis\n",
        "from sklearn.ensemble import RandomForestClassifier\n",
        "\n",
        "from tensorflow.keras.preprocessing.text import Tokenizer\n",
        "from tensorflow.keras.models import Sequential, load_model\n",
        "from tensorflow.keras.layers import LSTM, Dense, Dropout, Embedding, Masking, Bidirectional\n",
        "from tensorflow.keras.optimizers import Adam\n",
        "from tensorflow.keras import backend\n",
        "\n",
        "from nltk.stem import PorterStemmer\n",
        "from nltk.stem import LancasterStemmer\n",
        "\n",
        "nltk.download('punkt')\n",
        "nltk.download('stopwords')\n",
        "nltk.download('wordnet')"
      ]
    },
    {
      "cell_type": "code",
      "source": [
        "from google.colab import drive\n",
        "drive.mount('/content/gdrive')"
      ],
      "metadata": {
        "id": "eiProTZ39c1T",
        "colab": {
          "base_uri": "https://localhost:8080/"
        },
        "outputId": "ead5b20c-47f3-4dba-877a-792ee53fac0f"
      },
      "execution_count": 2,
      "outputs": [
        {
          "output_type": "stream",
          "name": "stdout",
          "text": [
            "Mounted at /content/gdrive\n"
          ]
        }
      ]
    },
    {
      "cell_type": "code",
      "execution_count": 3,
      "metadata": {
        "id": "WFXgHcDC9OOv",
        "colab": {
          "base_uri": "https://localhost:8080/",
          "height": 206
        },
        "outputId": "b3cc7971-4d07-4080-abb9-00d132371d07"
      },
      "outputs": [
        {
          "output_type": "execute_result",
          "data": {
            "text/plain": [
              "           ID                                            comment     date  \\\n",
              "0  uid_590555  Well, let's be honest here, they don't actuall...  2015-04   \n",
              "1  uid_671762  Well, I didn't need evidence to believe in com...  2016-12   \n",
              "2  uid_519689              Who does an \"official promo\" in 360p?  2013-11   \n",
              "3  uid_788362                           Grotto koth was the best  2015-09   \n",
              "4  uid_299252                                   Neal's back baby  2015-11   \n",
              "\n",
              "   down                                     parent_comment  score  top  \\\n",
              "0     0  They should shut the fuck up and let the commu...      2    2   \n",
              "1    -1  You need evidence to kill people? I thought we...      6   -1   \n",
              "2     0                    2014 BMW S1000R: Official Promo      3    3   \n",
              "3     0  Not really that memorable lol if you want memo...      2    2   \n",
              "4     0                      James Neal hit on Zach Parise     -5   -5   \n",
              "\n",
              "              topic            user  label  \n",
              "0       starcitizen  Combat_Wombatz      0  \n",
              "1  EnoughCommieSpam        starkadd      1  \n",
              "2       motorcycles         phybere      0  \n",
              "3        hcfactions          m0xyMC      1  \n",
              "4            hockey       Somuch101      1  "
            ],
            "text/html": [
              "\n",
              "  <div id=\"df-2264c786-831e-4769-b7dc-cfad84edceb6\">\n",
              "    <div class=\"colab-df-container\">\n",
              "      <div>\n",
              "<style scoped>\n",
              "    .dataframe tbody tr th:only-of-type {\n",
              "        vertical-align: middle;\n",
              "    }\n",
              "\n",
              "    .dataframe tbody tr th {\n",
              "        vertical-align: top;\n",
              "    }\n",
              "\n",
              "    .dataframe thead th {\n",
              "        text-align: right;\n",
              "    }\n",
              "</style>\n",
              "<table border=\"1\" class=\"dataframe\">\n",
              "  <thead>\n",
              "    <tr style=\"text-align: right;\">\n",
              "      <th></th>\n",
              "      <th>ID</th>\n",
              "      <th>comment</th>\n",
              "      <th>date</th>\n",
              "      <th>down</th>\n",
              "      <th>parent_comment</th>\n",
              "      <th>score</th>\n",
              "      <th>top</th>\n",
              "      <th>topic</th>\n",
              "      <th>user</th>\n",
              "      <th>label</th>\n",
              "    </tr>\n",
              "  </thead>\n",
              "  <tbody>\n",
              "    <tr>\n",
              "      <th>0</th>\n",
              "      <td>uid_590555</td>\n",
              "      <td>Well, let's be honest here, they don't actuall...</td>\n",
              "      <td>2015-04</td>\n",
              "      <td>0</td>\n",
              "      <td>They should shut the fuck up and let the commu...</td>\n",
              "      <td>2</td>\n",
              "      <td>2</td>\n",
              "      <td>starcitizen</td>\n",
              "      <td>Combat_Wombatz</td>\n",
              "      <td>0</td>\n",
              "    </tr>\n",
              "    <tr>\n",
              "      <th>1</th>\n",
              "      <td>uid_671762</td>\n",
              "      <td>Well, I didn't need evidence to believe in com...</td>\n",
              "      <td>2016-12</td>\n",
              "      <td>-1</td>\n",
              "      <td>You need evidence to kill people? I thought we...</td>\n",
              "      <td>6</td>\n",
              "      <td>-1</td>\n",
              "      <td>EnoughCommieSpam</td>\n",
              "      <td>starkadd</td>\n",
              "      <td>1</td>\n",
              "    </tr>\n",
              "    <tr>\n",
              "      <th>2</th>\n",
              "      <td>uid_519689</td>\n",
              "      <td>Who does an \"official promo\" in 360p?</td>\n",
              "      <td>2013-11</td>\n",
              "      <td>0</td>\n",
              "      <td>2014 BMW S1000R: Official Promo</td>\n",
              "      <td>3</td>\n",
              "      <td>3</td>\n",
              "      <td>motorcycles</td>\n",
              "      <td>phybere</td>\n",
              "      <td>0</td>\n",
              "    </tr>\n",
              "    <tr>\n",
              "      <th>3</th>\n",
              "      <td>uid_788362</td>\n",
              "      <td>Grotto koth was the best</td>\n",
              "      <td>2015-09</td>\n",
              "      <td>0</td>\n",
              "      <td>Not really that memorable lol if you want memo...</td>\n",
              "      <td>2</td>\n",
              "      <td>2</td>\n",
              "      <td>hcfactions</td>\n",
              "      <td>m0xyMC</td>\n",
              "      <td>1</td>\n",
              "    </tr>\n",
              "    <tr>\n",
              "      <th>4</th>\n",
              "      <td>uid_299252</td>\n",
              "      <td>Neal's back baby</td>\n",
              "      <td>2015-11</td>\n",
              "      <td>0</td>\n",
              "      <td>James Neal hit on Zach Parise</td>\n",
              "      <td>-5</td>\n",
              "      <td>-5</td>\n",
              "      <td>hockey</td>\n",
              "      <td>Somuch101</td>\n",
              "      <td>1</td>\n",
              "    </tr>\n",
              "  </tbody>\n",
              "</table>\n",
              "</div>\n",
              "      <button class=\"colab-df-convert\" onclick=\"convertToInteractive('df-2264c786-831e-4769-b7dc-cfad84edceb6')\"\n",
              "              title=\"Convert this dataframe to an interactive table.\"\n",
              "              style=\"display:none;\">\n",
              "        \n",
              "  <svg xmlns=\"http://www.w3.org/2000/svg\" height=\"24px\"viewBox=\"0 0 24 24\"\n",
              "       width=\"24px\">\n",
              "    <path d=\"M0 0h24v24H0V0z\" fill=\"none\"/>\n",
              "    <path d=\"M18.56 5.44l.94 2.06.94-2.06 2.06-.94-2.06-.94-.94-2.06-.94 2.06-2.06.94zm-11 1L8.5 8.5l.94-2.06 2.06-.94-2.06-.94L8.5 2.5l-.94 2.06-2.06.94zm10 10l.94 2.06.94-2.06 2.06-.94-2.06-.94-.94-2.06-.94 2.06-2.06.94z\"/><path d=\"M17.41 7.96l-1.37-1.37c-.4-.4-.92-.59-1.43-.59-.52 0-1.04.2-1.43.59L10.3 9.45l-7.72 7.72c-.78.78-.78 2.05 0 2.83L4 21.41c.39.39.9.59 1.41.59.51 0 1.02-.2 1.41-.59l7.78-7.78 2.81-2.81c.8-.78.8-2.07 0-2.86zM5.41 20L4 18.59l7.72-7.72 1.47 1.35L5.41 20z\"/>\n",
              "  </svg>\n",
              "      </button>\n",
              "      \n",
              "  <style>\n",
              "    .colab-df-container {\n",
              "      display:flex;\n",
              "      flex-wrap:wrap;\n",
              "      gap: 12px;\n",
              "    }\n",
              "\n",
              "    .colab-df-convert {\n",
              "      background-color: #E8F0FE;\n",
              "      border: none;\n",
              "      border-radius: 50%;\n",
              "      cursor: pointer;\n",
              "      display: none;\n",
              "      fill: #1967D2;\n",
              "      height: 32px;\n",
              "      padding: 0 0 0 0;\n",
              "      width: 32px;\n",
              "    }\n",
              "\n",
              "    .colab-df-convert:hover {\n",
              "      background-color: #E2EBFA;\n",
              "      box-shadow: 0px 1px 2px rgba(60, 64, 67, 0.3), 0px 1px 3px 1px rgba(60, 64, 67, 0.15);\n",
              "      fill: #174EA6;\n",
              "    }\n",
              "\n",
              "    [theme=dark] .colab-df-convert {\n",
              "      background-color: #3B4455;\n",
              "      fill: #D2E3FC;\n",
              "    }\n",
              "\n",
              "    [theme=dark] .colab-df-convert:hover {\n",
              "      background-color: #434B5C;\n",
              "      box-shadow: 0px 1px 3px 1px rgba(0, 0, 0, 0.15);\n",
              "      filter: drop-shadow(0px 1px 2px rgba(0, 0, 0, 0.3));\n",
              "      fill: #FFFFFF;\n",
              "    }\n",
              "  </style>\n",
              "\n",
              "      <script>\n",
              "        const buttonEl =\n",
              "          document.querySelector('#df-2264c786-831e-4769-b7dc-cfad84edceb6 button.colab-df-convert');\n",
              "        buttonEl.style.display =\n",
              "          google.colab.kernel.accessAllowed ? 'block' : 'none';\n",
              "\n",
              "        async function convertToInteractive(key) {\n",
              "          const element = document.querySelector('#df-2264c786-831e-4769-b7dc-cfad84edceb6');\n",
              "          const dataTable =\n",
              "            await google.colab.kernel.invokeFunction('convertToInteractive',\n",
              "                                                     [key], {});\n",
              "          if (!dataTable) return;\n",
              "\n",
              "          const docLinkHtml = 'Like what you see? Visit the ' +\n",
              "            '<a target=\"_blank\" href=https://colab.research.google.com/notebooks/data_table.ipynb>data table notebook</a>'\n",
              "            + ' to learn more about interactive tables.';\n",
              "          element.innerHTML = '';\n",
              "          dataTable['output_type'] = 'display_data';\n",
              "          await google.colab.output.renderOutput(dataTable, element);\n",
              "          const docLink = document.createElement('div');\n",
              "          docLink.innerHTML = docLinkHtml;\n",
              "          element.appendChild(docLink);\n",
              "        }\n",
              "      </script>\n",
              "    </div>\n",
              "  </div>\n",
              "  "
            ]
          },
          "metadata": {},
          "execution_count": 3
        }
      ],
      "source": [
        "raw_df = pd.read_csv('gdrive/My Drive/Colab Notebooks/Mini_Project/NLP/NLPMiniProject_data.csv')\n",
        "raw_df.head(5)"
      ]
    },
    {
      "cell_type": "markdown",
      "metadata": {
        "id": "2thAj5PD9OOx"
      },
      "source": [
        "### Remove undisclosed / Classified columns"
      ]
    },
    {
      "cell_type": "code",
      "execution_count": 4,
      "metadata": {
        "id": "umgWQ9_x9OO1",
        "colab": {
          "base_uri": "https://localhost:8080/",
          "height": 206
        },
        "outputId": "a061e087-a048-4fb2-f276-2aef1a112b5c"
      },
      "outputs": [
        {
          "output_type": "execute_result",
          "data": {
            "text/plain": [
              "           ID                                            comment     date  \\\n",
              "0  uid_590555  Well, let's be honest here, they don't actuall...  2015-04   \n",
              "1  uid_671762  Well, I didn't need evidence to believe in com...  2016-12   \n",
              "2  uid_519689              Who does an \"official promo\" in 360p?  2013-11   \n",
              "3  uid_788362                           Grotto koth was the best  2015-09   \n",
              "4  uid_299252                                   Neal's back baby  2015-11   \n",
              "\n",
              "                                      parent_comment             topic  \\\n",
              "0  They should shut the fuck up and let the commu...       starcitizen   \n",
              "1  You need evidence to kill people? I thought we...  EnoughCommieSpam   \n",
              "2                    2014 BMW S1000R: Official Promo       motorcycles   \n",
              "3  Not really that memorable lol if you want memo...        hcfactions   \n",
              "4                      James Neal hit on Zach Parise            hockey   \n",
              "\n",
              "             user  label  \n",
              "0  Combat_Wombatz      0  \n",
              "1        starkadd      1  \n",
              "2         phybere      0  \n",
              "3          m0xyMC      1  \n",
              "4       Somuch101      1  "
            ],
            "text/html": [
              "\n",
              "  <div id=\"df-fdcdd37d-b2a4-4ad8-adf4-6431a3315d9a\">\n",
              "    <div class=\"colab-df-container\">\n",
              "      <div>\n",
              "<style scoped>\n",
              "    .dataframe tbody tr th:only-of-type {\n",
              "        vertical-align: middle;\n",
              "    }\n",
              "\n",
              "    .dataframe tbody tr th {\n",
              "        vertical-align: top;\n",
              "    }\n",
              "\n",
              "    .dataframe thead th {\n",
              "        text-align: right;\n",
              "    }\n",
              "</style>\n",
              "<table border=\"1\" class=\"dataframe\">\n",
              "  <thead>\n",
              "    <tr style=\"text-align: right;\">\n",
              "      <th></th>\n",
              "      <th>ID</th>\n",
              "      <th>comment</th>\n",
              "      <th>date</th>\n",
              "      <th>parent_comment</th>\n",
              "      <th>topic</th>\n",
              "      <th>user</th>\n",
              "      <th>label</th>\n",
              "    </tr>\n",
              "  </thead>\n",
              "  <tbody>\n",
              "    <tr>\n",
              "      <th>0</th>\n",
              "      <td>uid_590555</td>\n",
              "      <td>Well, let's be honest here, they don't actuall...</td>\n",
              "      <td>2015-04</td>\n",
              "      <td>They should shut the fuck up and let the commu...</td>\n",
              "      <td>starcitizen</td>\n",
              "      <td>Combat_Wombatz</td>\n",
              "      <td>0</td>\n",
              "    </tr>\n",
              "    <tr>\n",
              "      <th>1</th>\n",
              "      <td>uid_671762</td>\n",
              "      <td>Well, I didn't need evidence to believe in com...</td>\n",
              "      <td>2016-12</td>\n",
              "      <td>You need evidence to kill people? I thought we...</td>\n",
              "      <td>EnoughCommieSpam</td>\n",
              "      <td>starkadd</td>\n",
              "      <td>1</td>\n",
              "    </tr>\n",
              "    <tr>\n",
              "      <th>2</th>\n",
              "      <td>uid_519689</td>\n",
              "      <td>Who does an \"official promo\" in 360p?</td>\n",
              "      <td>2013-11</td>\n",
              "      <td>2014 BMW S1000R: Official Promo</td>\n",
              "      <td>motorcycles</td>\n",
              "      <td>phybere</td>\n",
              "      <td>0</td>\n",
              "    </tr>\n",
              "    <tr>\n",
              "      <th>3</th>\n",
              "      <td>uid_788362</td>\n",
              "      <td>Grotto koth was the best</td>\n",
              "      <td>2015-09</td>\n",
              "      <td>Not really that memorable lol if you want memo...</td>\n",
              "      <td>hcfactions</td>\n",
              "      <td>m0xyMC</td>\n",
              "      <td>1</td>\n",
              "    </tr>\n",
              "    <tr>\n",
              "      <th>4</th>\n",
              "      <td>uid_299252</td>\n",
              "      <td>Neal's back baby</td>\n",
              "      <td>2015-11</td>\n",
              "      <td>James Neal hit on Zach Parise</td>\n",
              "      <td>hockey</td>\n",
              "      <td>Somuch101</td>\n",
              "      <td>1</td>\n",
              "    </tr>\n",
              "  </tbody>\n",
              "</table>\n",
              "</div>\n",
              "      <button class=\"colab-df-convert\" onclick=\"convertToInteractive('df-fdcdd37d-b2a4-4ad8-adf4-6431a3315d9a')\"\n",
              "              title=\"Convert this dataframe to an interactive table.\"\n",
              "              style=\"display:none;\">\n",
              "        \n",
              "  <svg xmlns=\"http://www.w3.org/2000/svg\" height=\"24px\"viewBox=\"0 0 24 24\"\n",
              "       width=\"24px\">\n",
              "    <path d=\"M0 0h24v24H0V0z\" fill=\"none\"/>\n",
              "    <path d=\"M18.56 5.44l.94 2.06.94-2.06 2.06-.94-2.06-.94-.94-2.06-.94 2.06-2.06.94zm-11 1L8.5 8.5l.94-2.06 2.06-.94-2.06-.94L8.5 2.5l-.94 2.06-2.06.94zm10 10l.94 2.06.94-2.06 2.06-.94-2.06-.94-.94-2.06-.94 2.06-2.06.94z\"/><path d=\"M17.41 7.96l-1.37-1.37c-.4-.4-.92-.59-1.43-.59-.52 0-1.04.2-1.43.59L10.3 9.45l-7.72 7.72c-.78.78-.78 2.05 0 2.83L4 21.41c.39.39.9.59 1.41.59.51 0 1.02-.2 1.41-.59l7.78-7.78 2.81-2.81c.8-.78.8-2.07 0-2.86zM5.41 20L4 18.59l7.72-7.72 1.47 1.35L5.41 20z\"/>\n",
              "  </svg>\n",
              "      </button>\n",
              "      \n",
              "  <style>\n",
              "    .colab-df-container {\n",
              "      display:flex;\n",
              "      flex-wrap:wrap;\n",
              "      gap: 12px;\n",
              "    }\n",
              "\n",
              "    .colab-df-convert {\n",
              "      background-color: #E8F0FE;\n",
              "      border: none;\n",
              "      border-radius: 50%;\n",
              "      cursor: pointer;\n",
              "      display: none;\n",
              "      fill: #1967D2;\n",
              "      height: 32px;\n",
              "      padding: 0 0 0 0;\n",
              "      width: 32px;\n",
              "    }\n",
              "\n",
              "    .colab-df-convert:hover {\n",
              "      background-color: #E2EBFA;\n",
              "      box-shadow: 0px 1px 2px rgba(60, 64, 67, 0.3), 0px 1px 3px 1px rgba(60, 64, 67, 0.15);\n",
              "      fill: #174EA6;\n",
              "    }\n",
              "\n",
              "    [theme=dark] .colab-df-convert {\n",
              "      background-color: #3B4455;\n",
              "      fill: #D2E3FC;\n",
              "    }\n",
              "\n",
              "    [theme=dark] .colab-df-convert:hover {\n",
              "      background-color: #434B5C;\n",
              "      box-shadow: 0px 1px 3px 1px rgba(0, 0, 0, 0.15);\n",
              "      filter: drop-shadow(0px 1px 2px rgba(0, 0, 0, 0.3));\n",
              "      fill: #FFFFFF;\n",
              "    }\n",
              "  </style>\n",
              "\n",
              "      <script>\n",
              "        const buttonEl =\n",
              "          document.querySelector('#df-fdcdd37d-b2a4-4ad8-adf4-6431a3315d9a button.colab-df-convert');\n",
              "        buttonEl.style.display =\n",
              "          google.colab.kernel.accessAllowed ? 'block' : 'none';\n",
              "\n",
              "        async function convertToInteractive(key) {\n",
              "          const element = document.querySelector('#df-fdcdd37d-b2a4-4ad8-adf4-6431a3315d9a');\n",
              "          const dataTable =\n",
              "            await google.colab.kernel.invokeFunction('convertToInteractive',\n",
              "                                                     [key], {});\n",
              "          if (!dataTable) return;\n",
              "\n",
              "          const docLinkHtml = 'Like what you see? Visit the ' +\n",
              "            '<a target=\"_blank\" href=https://colab.research.google.com/notebooks/data_table.ipynb>data table notebook</a>'\n",
              "            + ' to learn more about interactive tables.';\n",
              "          element.innerHTML = '';\n",
              "          dataTable['output_type'] = 'display_data';\n",
              "          await google.colab.output.renderOutput(dataTable, element);\n",
              "          const docLink = document.createElement('div');\n",
              "          docLink.innerHTML = docLinkHtml;\n",
              "          element.appendChild(docLink);\n",
              "        }\n",
              "      </script>\n",
              "    </div>\n",
              "  </div>\n",
              "  "
            ]
          },
          "metadata": {},
          "execution_count": 4
        }
      ],
      "source": [
        "raw_df.drop(labels=['down','score','top'],axis=1,inplace=True)\n",
        "raw_df.head(5)"
      ]
    },
    {
      "cell_type": "markdown",
      "metadata": {
        "id": "MT8EXMD39OO1"
      },
      "source": [
        "### EDA"
      ]
    },
    {
      "cell_type": "code",
      "execution_count": 5,
      "metadata": {
        "id": "M_o3YrHZ9OO3",
        "colab": {
          "base_uri": "https://localhost:8080/"
        },
        "outputId": "d26c9bdc-286d-4ce4-c595-9ef93c483530"
      },
      "outputs": [
        {
          "output_type": "stream",
          "name": "stdout",
          "text": [
            "Total observations : 15000\n",
            "Distinct UIDs : 15000\n",
            "Distinct Topics : 2272\n",
            "Distinct users : 13987\n",
            "Distinct labels : 2\n",
            "Min date : 2009-01-01 00:00:00\n",
            "Max date : 2016-12-01 00:00:00\n"
          ]
        }
      ],
      "source": [
        "print(\"Total observations :\", raw_df.shape[0])\n",
        "print(\"Distinct UIDs :\", raw_df['ID'].nunique())\n",
        "print(\"Distinct Topics :\", raw_df['topic'].nunique())\n",
        "print(\"Distinct users :\", raw_df['user'].nunique())\n",
        "print(\"Distinct labels :\", raw_df['label'].nunique())\n",
        "print(\"Min date :\", pd.to_datetime(raw_df['date']).min())\n",
        "print(\"Max date :\", pd.to_datetime(raw_df['date']).max())"
      ]
    },
    {
      "cell_type": "code",
      "execution_count": 6,
      "metadata": {
        "id": "vPTu2WLf9OO4",
        "colab": {
          "base_uri": "https://localhost:8080/",
          "height": 300
        },
        "outputId": "be6b2de9-4ca0-4a84-b0e4-c5be9073e8f7"
      },
      "outputs": [
        {
          "output_type": "execute_result",
          "data": {
            "text/plain": [
              "              label\n",
              "count  15000.000000\n",
              "mean       0.501800\n",
              "std        0.500013\n",
              "min        0.000000\n",
              "25%        0.000000\n",
              "50%        1.000000\n",
              "75%        1.000000\n",
              "max        1.000000"
            ],
            "text/html": [
              "\n",
              "  <div id=\"df-baa04922-0284-477e-9042-96f73761387e\">\n",
              "    <div class=\"colab-df-container\">\n",
              "      <div>\n",
              "<style scoped>\n",
              "    .dataframe tbody tr th:only-of-type {\n",
              "        vertical-align: middle;\n",
              "    }\n",
              "\n",
              "    .dataframe tbody tr th {\n",
              "        vertical-align: top;\n",
              "    }\n",
              "\n",
              "    .dataframe thead th {\n",
              "        text-align: right;\n",
              "    }\n",
              "</style>\n",
              "<table border=\"1\" class=\"dataframe\">\n",
              "  <thead>\n",
              "    <tr style=\"text-align: right;\">\n",
              "      <th></th>\n",
              "      <th>label</th>\n",
              "    </tr>\n",
              "  </thead>\n",
              "  <tbody>\n",
              "    <tr>\n",
              "      <th>count</th>\n",
              "      <td>15000.000000</td>\n",
              "    </tr>\n",
              "    <tr>\n",
              "      <th>mean</th>\n",
              "      <td>0.501800</td>\n",
              "    </tr>\n",
              "    <tr>\n",
              "      <th>std</th>\n",
              "      <td>0.500013</td>\n",
              "    </tr>\n",
              "    <tr>\n",
              "      <th>min</th>\n",
              "      <td>0.000000</td>\n",
              "    </tr>\n",
              "    <tr>\n",
              "      <th>25%</th>\n",
              "      <td>0.000000</td>\n",
              "    </tr>\n",
              "    <tr>\n",
              "      <th>50%</th>\n",
              "      <td>1.000000</td>\n",
              "    </tr>\n",
              "    <tr>\n",
              "      <th>75%</th>\n",
              "      <td>1.000000</td>\n",
              "    </tr>\n",
              "    <tr>\n",
              "      <th>max</th>\n",
              "      <td>1.000000</td>\n",
              "    </tr>\n",
              "  </tbody>\n",
              "</table>\n",
              "</div>\n",
              "      <button class=\"colab-df-convert\" onclick=\"convertToInteractive('df-baa04922-0284-477e-9042-96f73761387e')\"\n",
              "              title=\"Convert this dataframe to an interactive table.\"\n",
              "              style=\"display:none;\">\n",
              "        \n",
              "  <svg xmlns=\"http://www.w3.org/2000/svg\" height=\"24px\"viewBox=\"0 0 24 24\"\n",
              "       width=\"24px\">\n",
              "    <path d=\"M0 0h24v24H0V0z\" fill=\"none\"/>\n",
              "    <path d=\"M18.56 5.44l.94 2.06.94-2.06 2.06-.94-2.06-.94-.94-2.06-.94 2.06-2.06.94zm-11 1L8.5 8.5l.94-2.06 2.06-.94-2.06-.94L8.5 2.5l-.94 2.06-2.06.94zm10 10l.94 2.06.94-2.06 2.06-.94-2.06-.94-.94-2.06-.94 2.06-2.06.94z\"/><path d=\"M17.41 7.96l-1.37-1.37c-.4-.4-.92-.59-1.43-.59-.52 0-1.04.2-1.43.59L10.3 9.45l-7.72 7.72c-.78.78-.78 2.05 0 2.83L4 21.41c.39.39.9.59 1.41.59.51 0 1.02-.2 1.41-.59l7.78-7.78 2.81-2.81c.8-.78.8-2.07 0-2.86zM5.41 20L4 18.59l7.72-7.72 1.47 1.35L5.41 20z\"/>\n",
              "  </svg>\n",
              "      </button>\n",
              "      \n",
              "  <style>\n",
              "    .colab-df-container {\n",
              "      display:flex;\n",
              "      flex-wrap:wrap;\n",
              "      gap: 12px;\n",
              "    }\n",
              "\n",
              "    .colab-df-convert {\n",
              "      background-color: #E8F0FE;\n",
              "      border: none;\n",
              "      border-radius: 50%;\n",
              "      cursor: pointer;\n",
              "      display: none;\n",
              "      fill: #1967D2;\n",
              "      height: 32px;\n",
              "      padding: 0 0 0 0;\n",
              "      width: 32px;\n",
              "    }\n",
              "\n",
              "    .colab-df-convert:hover {\n",
              "      background-color: #E2EBFA;\n",
              "      box-shadow: 0px 1px 2px rgba(60, 64, 67, 0.3), 0px 1px 3px 1px rgba(60, 64, 67, 0.15);\n",
              "      fill: #174EA6;\n",
              "    }\n",
              "\n",
              "    [theme=dark] .colab-df-convert {\n",
              "      background-color: #3B4455;\n",
              "      fill: #D2E3FC;\n",
              "    }\n",
              "\n",
              "    [theme=dark] .colab-df-convert:hover {\n",
              "      background-color: #434B5C;\n",
              "      box-shadow: 0px 1px 3px 1px rgba(0, 0, 0, 0.15);\n",
              "      filter: drop-shadow(0px 1px 2px rgba(0, 0, 0, 0.3));\n",
              "      fill: #FFFFFF;\n",
              "    }\n",
              "  </style>\n",
              "\n",
              "      <script>\n",
              "        const buttonEl =\n",
              "          document.querySelector('#df-baa04922-0284-477e-9042-96f73761387e button.colab-df-convert');\n",
              "        buttonEl.style.display =\n",
              "          google.colab.kernel.accessAllowed ? 'block' : 'none';\n",
              "\n",
              "        async function convertToInteractive(key) {\n",
              "          const element = document.querySelector('#df-baa04922-0284-477e-9042-96f73761387e');\n",
              "          const dataTable =\n",
              "            await google.colab.kernel.invokeFunction('convertToInteractive',\n",
              "                                                     [key], {});\n",
              "          if (!dataTable) return;\n",
              "\n",
              "          const docLinkHtml = 'Like what you see? Visit the ' +\n",
              "            '<a target=\"_blank\" href=https://colab.research.google.com/notebooks/data_table.ipynb>data table notebook</a>'\n",
              "            + ' to learn more about interactive tables.';\n",
              "          element.innerHTML = '';\n",
              "          dataTable['output_type'] = 'display_data';\n",
              "          await google.colab.output.renderOutput(dataTable, element);\n",
              "          const docLink = document.createElement('div');\n",
              "          docLink.innerHTML = docLinkHtml;\n",
              "          element.appendChild(docLink);\n",
              "        }\n",
              "      </script>\n",
              "    </div>\n",
              "  </div>\n",
              "  "
            ]
          },
          "metadata": {},
          "execution_count": 6
        }
      ],
      "source": [
        "raw_df.describe()"
      ]
    },
    {
      "cell_type": "markdown",
      "metadata": {
        "id": "YR1OuhQF9OO4"
      },
      "source": [
        "### Check if data is balanced w.r.t target "
      ]
    },
    {
      "cell_type": "code",
      "execution_count": 7,
      "metadata": {
        "id": "owopR2n99OO5",
        "colab": {
          "base_uri": "https://localhost:8080/",
          "height": 356
        },
        "outputId": "e5e8a74e-2e22-462c-e3de-e0ec1815e6d3"
      },
      "outputs": [
        {
          "output_type": "execute_result",
          "data": {
            "text/plain": [
              "<matplotlib.axes._subplots.AxesSubplot at 0x7f90f805f950>"
            ]
          },
          "metadata": {},
          "execution_count": 7
        },
        {
          "output_type": "display_data",
          "data": {
            "text/plain": [
              "<Figure size 360x360 with 1 Axes>"
            ],
            "image/png": "[encoded data removed]"
          },
          "metadata": {}
        }
      ],
      "source": [
        "label_agg_df = pd.DataFrame(raw_df.groupby(by=['label'])['ID'].count()).reset_index()\n",
        "sns.set(rc={'figure.figsize':(5,5)})\n",
        "sns.barplot(x='label',y='ID',data= label_agg_df)"
      ]
    },
    {
      "cell_type": "markdown",
      "metadata": {
        "id": "hiXOtIP89OO6"
      },
      "source": [
        "**Inference :** Data is balanced"
      ]
    },
    {
      "cell_type": "markdown",
      "metadata": {
        "id": "qOg2h_Yu9OO7"
      },
      "source": [
        "### Overall Count Distribution of Topic"
      ]
    },
    {
      "cell_type": "code",
      "execution_count": 8,
      "metadata": {
        "id": "Eg4E58Wi9OO8",
        "colab": {
          "base_uri": "https://localhost:8080/",
          "height": 411
        },
        "outputId": "f5d6c211-00ce-4f0d-fda6-2a7bd0053c1e"
      },
      "outputs": [
        {
          "output_type": "stream",
          "name": "stderr",
          "text": [
            "/usr/local/lib/python3.7/dist-packages/seaborn/distributions.py:2619: FutureWarning: `distplot` is a deprecated function and will be removed in a future version. Please adapt your code to use either `displot` (a figure-level function with similar flexibility) or `histplot` (an axes-level function for histograms).\n",
            "  warnings.warn(msg, FutureWarning)\n"
          ]
        },
        {
          "output_type": "execute_result",
          "data": {
            "text/plain": [
              "<matplotlib.axes._subplots.AxesSubplot at 0x7f90f7abd910>"
            ]
          },
          "metadata": {},
          "execution_count": 8
        },
        {
          "output_type": "display_data",
          "data": {
            "text/plain": [
              "<Figure size 360x360 with 2 Axes>"
            ],
            "image/png": "[encoded data removed]"
          },
          "metadata": {}
        }
      ],
      "source": [
        "lbltopic_agg_df = pd.DataFrame(raw_df.groupby(by=['topic'])['ID'].count()).reset_index().rename(columns={'ID':'Count'})\n",
        "fig, axs = plt.subplots(ncols=2)\n",
        "sns.set(rc={'figure.figsize':(25,15)})\n",
        "sns.boxplot(data=lbltopic_agg_df['Count'], ax=axs[0])\n",
        "sns.distplot(lbltopic_agg_df['Count'], ax=axs[1])"
      ]
    },
    {
      "cell_type": "markdown",
      "metadata": {
        "id": "79Au0-U99OO9"
      },
      "source": [
        "### Target Class-wise Count Distribution of Topic : Using Box-Plot"
      ]
    },
    {
      "cell_type": "code",
      "execution_count": 9,
      "metadata": {
        "id": "JwASUAlf9OO-",
        "colab": {
          "base_uri": "https://localhost:8080/",
          "height": 900
        },
        "outputId": "80ae1ab1-1cb6-497e-894a-3c1129c2bd40"
      },
      "outputs": [
        {
          "output_type": "execute_result",
          "data": {
            "text/plain": [
              "<matplotlib.axes._subplots.AxesSubplot at 0x7f90f7940310>"
            ]
          },
          "metadata": {},
          "execution_count": 9
        },
        {
          "output_type": "display_data",
          "data": {
            "text/plain": [
              "<Figure size 1800x1080 with 1 Axes>"
            ],
            "image/png": "[encoded data removed]"
          },
          "metadata": {}
        }
      ],
      "source": [
        "lbltopic_agg_df = pd.DataFrame(raw_df.groupby(by=['label','topic'])['ID'].count()).reset_index().rename(columns={'ID':'Count'})\n",
        "lbltopic_agg_df['label'] = lbltopic_agg_df['label'].map({1: 'sarcasm', 0: 'not sarcasm'})\n",
        "sns.set(rc={'figure.figsize':(25,15)})\n",
        "sns.boxplot(x='label',y='Count',data=lbltopic_agg_df)"
      ]
    },
    {
      "cell_type": "markdown",
      "metadata": {
        "id": "XeZL6cRq9OPA"
      },
      "source": [
        "### Target Class-wise Count Distribution of Topic : Using Distplot"
      ]
    },
    {
      "cell_type": "code",
      "execution_count": 10,
      "metadata": {
        "id": "BwZVKwyT9OPB",
        "colab": {
          "base_uri": "https://localhost:8080/",
          "height": 990
        },
        "outputId": "3c050d70-8ac6-4c4b-8a49-be400127d1b9"
      },
      "outputs": [
        {
          "output_type": "stream",
          "name": "stderr",
          "text": [
            "/usr/local/lib/python3.7/dist-packages/seaborn/distributions.py:2619: FutureWarning: `distplot` is a deprecated function and will be removed in a future version. Please adapt your code to use either `displot` (a figure-level function with similar flexibility) or `histplot` (an axes-level function for histograms).\n",
            "  warnings.warn(msg, FutureWarning)\n",
            "/usr/local/lib/python3.7/dist-packages/seaborn/distributions.py:2619: FutureWarning: `distplot` is a deprecated function and will be removed in a future version. Please adapt your code to use either `displot` (a figure-level function with similar flexibility) or `histplot` (an axes-level function for histograms).\n",
            "  warnings.warn(msg, FutureWarning)\n"
          ]
        },
        {
          "output_type": "execute_result",
          "data": {
            "text/plain": [
              "<matplotlib.axes._subplots.AxesSubplot at 0x7f90f7891310>"
            ]
          },
          "metadata": {},
          "execution_count": 10
        },
        {
          "output_type": "display_data",
          "data": {
            "text/plain": [
              "<Figure size 1800x1080 with 2 Axes>"
            ],
            "image/png": "[encoded data removed]"
          },
          "metadata": {}
        }
      ],
      "source": [
        "fig, axs = plt.subplots(ncols=2)\n",
        "sns.set(rc={'figure.figsize':(25,10)})\n",
        "sns.distplot(lbltopic_agg_df.loc[lbltopic_agg_df['label'] == 'not sarcasm']['Count'], ax=axs[0])\n",
        "sns.distplot(lbltopic_agg_df.loc[lbltopic_agg_df['label'] == 'sarcasm']['Count'], ax=axs[1])"
      ]
    },
    {
      "cell_type": "markdown",
      "metadata": {
        "id": "0nqmOnx09OPC"
      },
      "source": [
        "**Inference:** Both target classes are imbalanced to comparable extent w.r.t topics"
      ]
    },
    {
      "cell_type": "markdown",
      "metadata": {
        "id": "dcvzituQ9OPF"
      },
      "source": [
        "### Dataset Cleaning"
      ]
    },
    {
      "cell_type": "code",
      "execution_count": 11,
      "metadata": {
        "id": "sLk0ILEo9OPG",
        "colab": {
          "base_uri": "https://localhost:8080/",
          "height": 424
        },
        "outputId": "3137173d-ea6a-45c9-fc3a-6fc08c61e053"
      },
      "outputs": [
        {
          "output_type": "execute_result",
          "data": {
            "text/plain": [
              "                ID                                            comment  \\\n",
              "0       uid_590555  Well, let's be honest here, they don't actuall...   \n",
              "1       uid_671762  Well, I didn't need evidence to believe in com...   \n",
              "2       uid_519689              Who does an \"official promo\" in 360p?   \n",
              "3       uid_788362                           Grotto koth was the best   \n",
              "4       uid_299252                                   Neal's back baby   \n",
              "...            ...                                                ...   \n",
              "14995   uid_845344  Well with a name like El Cubano I'm surprised ...   \n",
              "14996   uid_757880                          ... This is a good point.   \n",
              "14997   uid_724706                                               Yep.   \n",
              "14998  uid_1006984   That's what the government WANTS you to believe!   \n",
              "14999   uid_723514  because Windows 10 has the glorious start menu...   \n",
              "\n",
              "          date                                     parent_comment  \\\n",
              "0      2015-04  They should shut the fuck up and let the commu...   \n",
              "1      2016-12  You need evidence to kill people? I thought we...   \n",
              "2      2013-11                    2014 BMW S1000R: Official Promo   \n",
              "3      2015-09  Not really that memorable lol if you want memo...   \n",
              "4      2015-11                      James Neal hit on Zach Parise   \n",
              "...        ...                                                ...   \n",
              "14995  2015-01  There's two things you don't do in Florida. - ...   \n",
              "14996  2014-04  Sounds like a pretty good overall summary of o...   \n",
              "14997  2015-09  I know the type you speak of. The \"die cis scu...   \n",
              "14998  2016-01  That there's A hidden cure for cancer but phar...   \n",
              "14999  2015-08  Windows 8(x) had more polish on launch than 10...   \n",
              "\n",
              "                  topic            user  label  \n",
              "0           starcitizen  Combat_Wombatz      0  \n",
              "1      EnoughCommieSpam        starkadd      1  \n",
              "2           motorcycles         phybere      0  \n",
              "3            hcfactions          m0xyMC      1  \n",
              "4                hockey       Somuch101      1  \n",
              "...                 ...             ...    ...  \n",
              "14995            hockey     shutupisaac      0  \n",
              "14996            hockey           em483      0  \n",
              "14997         AskReddit         YoImAli      0  \n",
              "14998         AskReddit        OhHiGCHQ      1  \n",
              "14999         Windows10     thedonutman      1  \n",
              "\n",
              "[15000 rows x 7 columns]"
            ],
            "text/html": [
              "\n",
              "  <div id=\"df-f01989a5-c1ff-43eb-bb8d-6fd09beb9775\">\n",
              "    <div class=\"colab-df-container\">\n",
              "      <div>\n",
              "<style scoped>\n",
              "    .dataframe tbody tr th:only-of-type {\n",
              "        vertical-align: middle;\n",
              "    }\n",
              "\n",
              "    .dataframe tbody tr th {\n",
              "        vertical-align: top;\n",
              "    }\n",
              "\n",
              "    .dataframe thead th {\n",
              "        text-align: right;\n",
              "    }\n",
              "</style>\n",
              "<table border=\"1\" class=\"dataframe\">\n",
              "  <thead>\n",
              "    <tr style=\"text-align: right;\">\n",
              "      <th></th>\n",
              "      <th>ID</th>\n",
              "      <th>comment</th>\n",
              "      <th>date</th>\n",
              "      <th>parent_comment</th>\n",
              "      <th>topic</th>\n",
              "      <th>user</th>\n",
              "      <th>label</th>\n",
              "    </tr>\n",
              "  </thead>\n",
              "  <tbody>\n",
              "    <tr>\n",
              "      <th>0</th>\n",
              "      <td>uid_590555</td>\n",
              "      <td>Well, let's be honest here, they don't actuall...</td>\n",
              "      <td>2015-04</td>\n",
              "      <td>They should shut the fuck up and let the commu...</td>\n",
              "      <td>starcitizen</td>\n",
              "      <td>Combat_Wombatz</td>\n",
              "      <td>0</td>\n",
              "    </tr>\n",
              "    <tr>\n",
              "      <th>1</th>\n",
              "      <td>uid_671762</td>\n",
              "      <td>Well, I didn't need evidence to believe in com...</td>\n",
              "      <td>2016-12</td>\n",
              "      <td>You need evidence to kill people? I thought we...</td>\n",
              "      <td>EnoughCommieSpam</td>\n",
              "      <td>starkadd</td>\n",
              "      <td>1</td>\n",
              "    </tr>\n",
              "    <tr>\n",
              "      <th>2</th>\n",
              "      <td>uid_519689</td>\n",
              "      <td>Who does an \"official promo\" in 360p?</td>\n",
              "      <td>2013-11</td>\n",
              "      <td>2014 BMW S1000R: Official Promo</td>\n",
              "      <td>motorcycles</td>\n",
              "      <td>phybere</td>\n",
              "      <td>0</td>\n",
              "    </tr>\n",
              "    <tr>\n",
              "      <th>3</th>\n",
              "      <td>uid_788362</td>\n",
              "      <td>Grotto koth was the best</td>\n",
              "      <td>2015-09</td>\n",
              "      <td>Not really that memorable lol if you want memo...</td>\n",
              "      <td>hcfactions</td>\n",
              "      <td>m0xyMC</td>\n",
              "      <td>1</td>\n",
              "    </tr>\n",
              "    <tr>\n",
              "      <th>4</th>\n",
              "      <td>uid_299252</td>\n",
              "      <td>Neal's back baby</td>\n",
              "      <td>2015-11</td>\n",
              "      <td>James Neal hit on Zach Parise</td>\n",
              "      <td>hockey</td>\n",
              "      <td>Somuch101</td>\n",
              "      <td>1</td>\n",
              "    </tr>\n",
              "    <tr>\n",
              "      <th>...</th>\n",
              "      <td>...</td>\n",
              "      <td>...</td>\n",
              "      <td>...</td>\n",
              "      <td>...</td>\n",
              "      <td>...</td>\n",
              "      <td>...</td>\n",
              "      <td>...</td>\n",
              "    </tr>\n",
              "    <tr>\n",
              "      <th>14995</th>\n",
              "      <td>uid_845344</td>\n",
              "      <td>Well with a name like El Cubano I'm surprised ...</td>\n",
              "      <td>2015-01</td>\n",
              "      <td>There's two things you don't do in Florida. - ...</td>\n",
              "      <td>hockey</td>\n",
              "      <td>shutupisaac</td>\n",
              "      <td>0</td>\n",
              "    </tr>\n",
              "    <tr>\n",
              "      <th>14996</th>\n",
              "      <td>uid_757880</td>\n",
              "      <td>... This is a good point.</td>\n",
              "      <td>2014-04</td>\n",
              "      <td>Sounds like a pretty good overall summary of o...</td>\n",
              "      <td>hockey</td>\n",
              "      <td>em483</td>\n",
              "      <td>0</td>\n",
              "    </tr>\n",
              "    <tr>\n",
              "      <th>14997</th>\n",
              "      <td>uid_724706</td>\n",
              "      <td>Yep.</td>\n",
              "      <td>2015-09</td>\n",
              "      <td>I know the type you speak of. The \"die cis scu...</td>\n",
              "      <td>AskReddit</td>\n",
              "      <td>YoImAli</td>\n",
              "      <td>0</td>\n",
              "    </tr>\n",
              "    <tr>\n",
              "      <th>14998</th>\n",
              "      <td>uid_1006984</td>\n",
              "      <td>That's what the government WANTS you to believe!</td>\n",
              "      <td>2016-01</td>\n",
              "      <td>That there's A hidden cure for cancer but phar...</td>\n",
              "      <td>AskReddit</td>\n",
              "      <td>OhHiGCHQ</td>\n",
              "      <td>1</td>\n",
              "    </tr>\n",
              "    <tr>\n",
              "      <th>14999</th>\n",
              "      <td>uid_723514</td>\n",
              "      <td>because Windows 10 has the glorious start menu...</td>\n",
              "      <td>2015-08</td>\n",
              "      <td>Windows 8(x) had more polish on launch than 10...</td>\n",
              "      <td>Windows10</td>\n",
              "      <td>thedonutman</td>\n",
              "      <td>1</td>\n",
              "    </tr>\n",
              "  </tbody>\n",
              "</table>\n",
              "<p>15000 rows × 7 columns</p>\n",
              "</div>\n",
              "      <button class=\"colab-df-convert\" onclick=\"convertToInteractive('df-f01989a5-c1ff-43eb-bb8d-6fd09beb9775')\"\n",
              "              title=\"Convert this dataframe to an interactive table.\"\n",
              "              style=\"display:none;\">\n",
              "        \n",
              "  <svg xmlns=\"http://www.w3.org/2000/svg\" height=\"24px\"viewBox=\"0 0 24 24\"\n",
              "       width=\"24px\">\n",
              "    <path d=\"M0 0h24v24H0V0z\" fill=\"none\"/>\n",
              "    <path d=\"M18.56 5.44l.94 2.06.94-2.06 2.06-.94-2.06-.94-.94-2.06-.94 2.06-2.06.94zm-11 1L8.5 8.5l.94-2.06 2.06-.94-2.06-.94L8.5 2.5l-.94 2.06-2.06.94zm10 10l.94 2.06.94-2.06 2.06-.94-2.06-.94-.94-2.06-.94 2.06-2.06.94z\"/><path d=\"M17.41 7.96l-1.37-1.37c-.4-.4-.92-.59-1.43-.59-.52 0-1.04.2-1.43.59L10.3 9.45l-7.72 7.72c-.78.78-.78 2.05 0 2.83L4 21.41c.39.39.9.59 1.41.59.51 0 1.02-.2 1.41-.59l7.78-7.78 2.81-2.81c.8-.78.8-2.07 0-2.86zM5.41 20L4 18.59l7.72-7.72 1.47 1.35L5.41 20z\"/>\n",
              "  </svg>\n",
              "      </button>\n",
              "      \n",
              "  <style>\n",
              "    .colab-df-container {\n",
              "      display:flex;\n",
              "      flex-wrap:wrap;\n",
              "      gap: 12px;\n",
              "    }\n",
              "\n",
              "    .colab-df-convert {\n",
              "      background-color: #E8F0FE;\n",
              "      border: none;\n",
              "      border-radius: 50%;\n",
              "      cursor: pointer;\n",
              "      display: none;\n",
              "      fill: #1967D2;\n",
              "      height: 32px;\n",
              "      padding: 0 0 0 0;\n",
              "      width: 32px;\n",
              "    }\n",
              "\n",
              "    .colab-df-convert:hover {\n",
              "      background-color: #E2EBFA;\n",
              "      box-shadow: 0px 1px 2px rgba(60, 64, 67, 0.3), 0px 1px 3px 1px rgba(60, 64, 67, 0.15);\n",
              "      fill: #174EA6;\n",
              "    }\n",
              "\n",
              "    [theme=dark] .colab-df-convert {\n",
              "      background-color: #3B4455;\n",
              "      fill: #D2E3FC;\n",
              "    }\n",
              "\n",
              "    [theme=dark] .colab-df-convert:hover {\n",
              "      background-color: #434B5C;\n",
              "      box-shadow: 0px 1px 3px 1px rgba(0, 0, 0, 0.15);\n",
              "      filter: drop-shadow(0px 1px 2px rgba(0, 0, 0, 0.3));\n",
              "      fill: #FFFFFF;\n",
              "    }\n",
              "  </style>\n",
              "\n",
              "      <script>\n",
              "        const buttonEl =\n",
              "          document.querySelector('#df-f01989a5-c1ff-43eb-bb8d-6fd09beb9775 button.colab-df-convert');\n",
              "        buttonEl.style.display =\n",
              "          google.colab.kernel.accessAllowed ? 'block' : 'none';\n",
              "\n",
              "        async function convertToInteractive(key) {\n",
              "          const element = document.querySelector('#df-f01989a5-c1ff-43eb-bb8d-6fd09beb9775');\n",
              "          const dataTable =\n",
              "            await google.colab.kernel.invokeFunction('convertToInteractive',\n",
              "                                                     [key], {});\n",
              "          if (!dataTable) return;\n",
              "\n",
              "          const docLinkHtml = 'Like what you see? Visit the ' +\n",
              "            '<a target=\"_blank\" href=https://colab.research.google.com/notebooks/data_table.ipynb>data table notebook</a>'\n",
              "            + ' to learn more about interactive tables.';\n",
              "          element.innerHTML = '';\n",
              "          dataTable['output_type'] = 'display_data';\n",
              "          await google.colab.output.renderOutput(dataTable, element);\n",
              "          const docLink = document.createElement('div');\n",
              "          docLink.innerHTML = docLinkHtml;\n",
              "          element.appendChild(docLink);\n",
              "        }\n",
              "      </script>\n",
              "    </div>\n",
              "  </div>\n",
              "  "
            ]
          },
          "metadata": {},
          "execution_count": 11
        }
      ],
      "source": [
        "raw_df"
      ]
    },
    {
      "cell_type": "code",
      "execution_count": 12,
      "metadata": {
        "id": "NWhS-x_B9OPH"
      },
      "outputs": [],
      "source": [
        "## Tokenize, Lowercase, Remove Punctuations, Remove Stopwords\n",
        "\n",
        "def clean_txt(p_srs):\n",
        "\n",
        "  ## Tokenize the text data\n",
        "  document_text = p_srs\n",
        "  datalist = []\n",
        "  for data_ele in document_text:datalist.append(RegexpTokenizer('\\w+').tokenize(data_ele))\n",
        "\n",
        "  ## Lowercase\n",
        "\n",
        "  lowercase_txt = []\n",
        "  for line_ele in datalist:lowercase_txt.append(list(map(lambda x : x.lower(),line_ele)))\n",
        "\n",
        "  ## Remove Punctuations\n",
        "\n",
        "  punctlist = [\";\",\":\",\"!\",\"?\",\"/\",\"\\\\\",\",\",\"#\",\"@\",\"$\",\"&\",\")\",\"(\",\"\\\"\"]\n",
        "  punc_filtr = []\n",
        "\n",
        "  for line_ele in lowercase_txt:\n",
        "      punc_char=[]\n",
        "      for wrd in line_ele:\n",
        "          if wrd not in punctlist:\n",
        "              punc_char.append(wrd)\n",
        "      punc_filtr.append(punc_char)\n",
        "\n",
        "  ## Remove Stopwords\n",
        "\n",
        "  stop_words = set(stopwords.words('english'))\n",
        "  nonsw_sent = []\n",
        "\n",
        "  for data_ele in punc_filtr:\n",
        "      nonsw_wrd = []\n",
        "      for wrd in data_ele:\n",
        "          if wrd not in stop_words:\n",
        "              nonsw_wrd.append(wrd)\n",
        "      nonsw_sent.append(nonsw_wrd)\n",
        "\n",
        "  return nonsw_sent"
      ]
    },
    {
      "cell_type": "code",
      "source": [
        "def get_lemm(p_list):\n",
        "  ### Lemmatizing the Stemmed data\n",
        "  lanc_stm = LancasterStemmer()\n",
        "\n",
        "  lemm = []\n",
        "  for data_ele in p_list:\n",
        "      lemm.append(list(map(lambda x : lanc_stm.stem(x),data_ele)))\n",
        "\n",
        "  return lemm"
      ],
      "metadata": {
        "id": "RAUONePiAnrH"
      },
      "execution_count": 13,
      "outputs": []
    },
    {
      "cell_type": "code",
      "source": [
        "def get_stemm(p_list):\n",
        "  ### Stemming the text data and stopword removal\n",
        "  porter = PorterStemmer()\n",
        "  stemmed = []\n",
        "\n",
        "  for data_ele in p_list:\n",
        "      stemmed.append(list(map(lambda x: porter.stem(x),data_ele)))\n",
        "      \n",
        "  return stemmed"
      ],
      "metadata": {
        "id": "HxKYlW6RGRgP"
      },
      "execution_count": 14,
      "outputs": []
    },
    {
      "cell_type": "code",
      "source": [
        "def tonkn_to_sent(p_list):\n",
        "  cln_X = p_list\n",
        "\n",
        "  cln_sent = []\n",
        "\n",
        "  for data_ele in cln_X:\n",
        "      seq = ''\n",
        "      for wrd in data_ele:\n",
        "          seq = seq + ' ' + wrd\n",
        "      cln_sent.append(seq)\n",
        "\n",
        "  cln_X = cln_sent\n",
        "  return cln_X"
      ],
      "metadata": {
        "id": "CQvycv38BbWU"
      },
      "execution_count": 15,
      "outputs": []
    },
    {
      "cell_type": "code",
      "source": [
        "def clean_lemm_stemm_sent(p_srs,p_std_apprch='lemm'):\n",
        "  clean_txt_list = clean_txt(p_srs)\n",
        "\n",
        "  if p_std_apprch == 'stemm':\n",
        "    stdapprch_list = get_stemm(clean_txt_list)\n",
        "  else:\n",
        "    stdapprch_list = get_lemm(clean_txt_list)\n",
        "\n",
        "  cln_sent_list = tonkn_to_sent(stdapprch_list)\n",
        "\n",
        "  return cln_sent_list"
      ],
      "metadata": {
        "id": "-CTfGtg7vLCZ"
      },
      "execution_count": 16,
      "outputs": []
    },
    {
      "cell_type": "code",
      "source": [
        "raw_df"
      ],
      "metadata": {
        "id": "V07_OualDueU",
        "colab": {
          "base_uri": "https://localhost:8080/",
          "height": 424
        },
        "outputId": "f35c86ec-bf1a-4177-84f1-9863dcb8bc42"
      },
      "execution_count": 17,
      "outputs": [
        {
          "output_type": "execute_result",
          "data": {
            "text/plain": [
              "                ID                                            comment  \\\n",
              "0       uid_590555  Well, let's be honest here, they don't actuall...   \n",
              "1       uid_671762  Well, I didn't need evidence to believe in com...   \n",
              "2       uid_519689              Who does an \"official promo\" in 360p?   \n",
              "3       uid_788362                           Grotto koth was the best   \n",
              "4       uid_299252                                   Neal's back baby   \n",
              "...            ...                                                ...   \n",
              "14995   uid_845344  Well with a name like El Cubano I'm surprised ...   \n",
              "14996   uid_757880                          ... This is a good point.   \n",
              "14997   uid_724706                                               Yep.   \n",
              "14998  uid_1006984   That's what the government WANTS you to believe!   \n",
              "14999   uid_723514  because Windows 10 has the glorious start menu...   \n",
              "\n",
              "          date                                     parent_comment  \\\n",
              "0      2015-04  They should shut the fuck up and let the commu...   \n",
              "1      2016-12  You need evidence to kill people? I thought we...   \n",
              "2      2013-11                    2014 BMW S1000R: Official Promo   \n",
              "3      2015-09  Not really that memorable lol if you want memo...   \n",
              "4      2015-11                      James Neal hit on Zach Parise   \n",
              "...        ...                                                ...   \n",
              "14995  2015-01  There's two things you don't do in Florida. - ...   \n",
              "14996  2014-04  Sounds like a pretty good overall summary of o...   \n",
              "14997  2015-09  I know the type you speak of. The \"die cis scu...   \n",
              "14998  2016-01  That there's A hidden cure for cancer but phar...   \n",
              "14999  2015-08  Windows 8(x) had more polish on launch than 10...   \n",
              "\n",
              "                  topic            user  label  \n",
              "0           starcitizen  Combat_Wombatz      0  \n",
              "1      EnoughCommieSpam        starkadd      1  \n",
              "2           motorcycles         phybere      0  \n",
              "3            hcfactions          m0xyMC      1  \n",
              "4                hockey       Somuch101      1  \n",
              "...                 ...             ...    ...  \n",
              "14995            hockey     shutupisaac      0  \n",
              "14996            hockey           em483      0  \n",
              "14997         AskReddit         YoImAli      0  \n",
              "14998         AskReddit        OhHiGCHQ      1  \n",
              "14999         Windows10     thedonutman      1  \n",
              "\n",
              "[15000 rows x 7 columns]"
            ],
            "text/html": [
              "\n",
              "  <div id=\"df-7908a196-ebb4-443c-b397-bb07e181bcc8\">\n",
              "    <div class=\"colab-df-container\">\n",
              "      <div>\n",
              "<style scoped>\n",
              "    .dataframe tbody tr th:only-of-type {\n",
              "        vertical-align: middle;\n",
              "    }\n",
              "\n",
              "    .dataframe tbody tr th {\n",
              "        vertical-align: top;\n",
              "    }\n",
              "\n",
              "    .dataframe thead th {\n",
              "        text-align: right;\n",
              "    }\n",
              "</style>\n",
              "<table border=\"1\" class=\"dataframe\">\n",
              "  <thead>\n",
              "    <tr style=\"text-align: right;\">\n",
              "      <th></th>\n",
              "      <th>ID</th>\n",
              "      <th>comment</th>\n",
              "      <th>date</th>\n",
              "      <th>parent_comment</th>\n",
              "      <th>topic</th>\n",
              "      <th>user</th>\n",
              "      <th>label</th>\n",
              "    </tr>\n",
              "  </thead>\n",
              "  <tbody>\n",
              "    <tr>\n",
              "      <th>0</th>\n",
              "      <td>uid_590555</td>\n",
              "      <td>Well, let's be honest here, they don't actuall...</td>\n",
              "      <td>2015-04</td>\n",
              "      <td>They should shut the fuck up and let the commu...</td>\n",
              "      <td>starcitizen</td>\n",
              "      <td>Combat_Wombatz</td>\n",
              "      <td>0</td>\n",
              "    </tr>\n",
              "    <tr>\n",
              "      <th>1</th>\n",
              "      <td>uid_671762</td>\n",
              "      <td>Well, I didn't need evidence to believe in com...</td>\n",
              "      <td>2016-12</td>\n",
              "      <td>You need evidence to kill people? I thought we...</td>\n",
              "      <td>EnoughCommieSpam</td>\n",
              "      <td>starkadd</td>\n",
              "      <td>1</td>\n",
              "    </tr>\n",
              "    <tr>\n",
              "      <th>2</th>\n",
              "      <td>uid_519689</td>\n",
              "      <td>Who does an \"official promo\" in 360p?</td>\n",
              "      <td>2013-11</td>\n",
              "      <td>2014 BMW S1000R: Official Promo</td>\n",
              "      <td>motorcycles</td>\n",
              "      <td>phybere</td>\n",
              "      <td>0</td>\n",
              "    </tr>\n",
              "    <tr>\n",
              "      <th>3</th>\n",
              "      <td>uid_788362</td>\n",
              "      <td>Grotto koth was the best</td>\n",
              "      <td>2015-09</td>\n",
              "      <td>Not really that memorable lol if you want memo...</td>\n",
              "      <td>hcfactions</td>\n",
              "      <td>m0xyMC</td>\n",
              "      <td>1</td>\n",
              "    </tr>\n",
              "    <tr>\n",
              "      <th>4</th>\n",
              "      <td>uid_299252</td>\n",
              "      <td>Neal's back baby</td>\n",
              "      <td>2015-11</td>\n",
              "      <td>James Neal hit on Zach Parise</td>\n",
              "      <td>hockey</td>\n",
              "      <td>Somuch101</td>\n",
              "      <td>1</td>\n",
              "    </tr>\n",
              "    <tr>\n",
              "      <th>...</th>\n",
              "      <td>...</td>\n",
              "      <td>...</td>\n",
              "      <td>...</td>\n",
              "      <td>...</td>\n",
              "      <td>...</td>\n",
              "      <td>...</td>\n",
              "      <td>...</td>\n",
              "    </tr>\n",
              "    <tr>\n",
              "      <th>14995</th>\n",
              "      <td>uid_845344</td>\n",
              "      <td>Well with a name like El Cubano I'm surprised ...</td>\n",
              "      <td>2015-01</td>\n",
              "      <td>There's two things you don't do in Florida. - ...</td>\n",
              "      <td>hockey</td>\n",
              "      <td>shutupisaac</td>\n",
              "      <td>0</td>\n",
              "    </tr>\n",
              "    <tr>\n",
              "      <th>14996</th>\n",
              "      <td>uid_757880</td>\n",
              "      <td>... This is a good point.</td>\n",
              "      <td>2014-04</td>\n",
              "      <td>Sounds like a pretty good overall summary of o...</td>\n",
              "      <td>hockey</td>\n",
              "      <td>em483</td>\n",
              "      <td>0</td>\n",
              "    </tr>\n",
              "    <tr>\n",
              "      <th>14997</th>\n",
              "      <td>uid_724706</td>\n",
              "      <td>Yep.</td>\n",
              "      <td>2015-09</td>\n",
              "      <td>I know the type you speak of. The \"die cis scu...</td>\n",
              "      <td>AskReddit</td>\n",
              "      <td>YoImAli</td>\n",
              "      <td>0</td>\n",
              "    </tr>\n",
              "    <tr>\n",
              "      <th>14998</th>\n",
              "      <td>uid_1006984</td>\n",
              "      <td>That's what the government WANTS you to believe!</td>\n",
              "      <td>2016-01</td>\n",
              "      <td>That there's A hidden cure for cancer but phar...</td>\n",
              "      <td>AskReddit</td>\n",
              "      <td>OhHiGCHQ</td>\n",
              "      <td>1</td>\n",
              "    </tr>\n",
              "    <tr>\n",
              "      <th>14999</th>\n",
              "      <td>uid_723514</td>\n",
              "      <td>because Windows 10 has the glorious start menu...</td>\n",
              "      <td>2015-08</td>\n",
              "      <td>Windows 8(x) had more polish on launch than 10...</td>\n",
              "      <td>Windows10</td>\n",
              "      <td>thedonutman</td>\n",
              "      <td>1</td>\n",
              "    </tr>\n",
              "  </tbody>\n",
              "</table>\n",
              "<p>15000 rows × 7 columns</p>\n",
              "</div>\n",
              "      <button class=\"colab-df-convert\" onclick=\"convertToInteractive('df-7908a196-ebb4-443c-b397-bb07e181bcc8')\"\n",
              "              title=\"Convert this dataframe to an interactive table.\"\n",
              "              style=\"display:none;\">\n",
              "        \n",
              "  <svg xmlns=\"http://www.w3.org/2000/svg\" height=\"24px\"viewBox=\"0 0 24 24\"\n",
              "       width=\"24px\">\n",
              "    <path d=\"M0 0h24v24H0V0z\" fill=\"none\"/>\n",
              "    <path d=\"M18.56 5.44l.94 2.06.94-2.06 2.06-.94-2.06-.94-.94-2.06-.94 2.06-2.06.94zm-11 1L8.5 8.5l.94-2.06 2.06-.94-2.06-.94L8.5 2.5l-.94 2.06-2.06.94zm10 10l.94 2.06.94-2.06 2.06-.94-2.06-.94-.94-2.06-.94 2.06-2.06.94z\"/><path d=\"M17.41 7.96l-1.37-1.37c-.4-.4-.92-.59-1.43-.59-.52 0-1.04.2-1.43.59L10.3 9.45l-7.72 7.72c-.78.78-.78 2.05 0 2.83L4 21.41c.39.39.9.59 1.41.59.51 0 1.02-.2 1.41-.59l7.78-7.78 2.81-2.81c.8-.78.8-2.07 0-2.86zM5.41 20L4 18.59l7.72-7.72 1.47 1.35L5.41 20z\"/>\n",
              "  </svg>\n",
              "      </button>\n",
              "      \n",
              "  <style>\n",
              "    .colab-df-container {\n",
              "      display:flex;\n",
              "      flex-wrap:wrap;\n",
              "      gap: 12px;\n",
              "    }\n",
              "\n",
              "    .colab-df-convert {\n",
              "      background-color: #E8F0FE;\n",
              "      border: none;\n",
              "      border-radius: 50%;\n",
              "      cursor: pointer;\n",
              "      display: none;\n",
              "      fill: #1967D2;\n",
              "      height: 32px;\n",
              "      padding: 0 0 0 0;\n",
              "      width: 32px;\n",
              "    }\n",
              "\n",
              "    .colab-df-convert:hover {\n",
              "      background-color: #E2EBFA;\n",
              "      box-shadow: 0px 1px 2px rgba(60, 64, 67, 0.3), 0px 1px 3px 1px rgba(60, 64, 67, 0.15);\n",
              "      fill: #174EA6;\n",
              "    }\n",
              "\n",
              "    [theme=dark] .colab-df-convert {\n",
              "      background-color: #3B4455;\n",
              "      fill: #D2E3FC;\n",
              "    }\n",
              "\n",
              "    [theme=dark] .colab-df-convert:hover {\n",
              "      background-color: #434B5C;\n",
              "      box-shadow: 0px 1px 3px 1px rgba(0, 0, 0, 0.15);\n",
              "      filter: drop-shadow(0px 1px 2px rgba(0, 0, 0, 0.3));\n",
              "      fill: #FFFFFF;\n",
              "    }\n",
              "  </style>\n",
              "\n",
              "      <script>\n",
              "        const buttonEl =\n",
              "          document.querySelector('#df-7908a196-ebb4-443c-b397-bb07e181bcc8 button.colab-df-convert');\n",
              "        buttonEl.style.display =\n",
              "          google.colab.kernel.accessAllowed ? 'block' : 'none';\n",
              "\n",
              "        async function convertToInteractive(key) {\n",
              "          const element = document.querySelector('#df-7908a196-ebb4-443c-b397-bb07e181bcc8');\n",
              "          const dataTable =\n",
              "            await google.colab.kernel.invokeFunction('convertToInteractive',\n",
              "                                                     [key], {});\n",
              "          if (!dataTable) return;\n",
              "\n",
              "          const docLinkHtml = 'Like what you see? Visit the ' +\n",
              "            '<a target=\"_blank\" href=https://colab.research.google.com/notebooks/data_table.ipynb>data table notebook</a>'\n",
              "            + ' to learn more about interactive tables.';\n",
              "          element.innerHTML = '';\n",
              "          dataTable['output_type'] = 'display_data';\n",
              "          await google.colab.output.renderOutput(dataTable, element);\n",
              "          const docLink = document.createElement('div');\n",
              "          docLink.innerHTML = docLinkHtml;\n",
              "          element.appendChild(docLink);\n",
              "        }\n",
              "      </script>\n",
              "    </div>\n",
              "  </div>\n",
              "  "
            ]
          },
          "metadata": {},
          "execution_count": 17
        }
      ]
    },
    {
      "cell_type": "code",
      "source": [
        "cln_lemm_df = pd.DataFrame()\n",
        "cln_lemm_df['comment_cln'] = clean_lemm_stemm_sent(raw_df['comment'],'lemm')\n",
        "cln_lemm_df['parent_comment_cln'] = clean_lemm_stemm_sent(raw_df['parent_comment'],'lemm')\n",
        "cln_lemm_df['topic'] = list(raw_df['topic'])\n",
        "cln_lemm_df['label'] = list(raw_df['label'])\n",
        "cln_lemm_df.head(5)"
      ],
      "metadata": {
        "id": "UYHsHbf1DUIg",
        "colab": {
          "base_uri": "https://localhost:8080/",
          "height": 206
        },
        "outputId": "7ac3bb28-7baf-4e9d-e847-1f82077e1029"
      },
      "execution_count": 18,
      "outputs": [
        {
          "output_type": "execute_result",
          "data": {
            "text/plain": [
              "                                         comment_cln  \\\n",
              "0   wel let honest act seem much mod spend tim so...   \n",
              "1                         wel nee evid believ commun   \n",
              "2                                     off promo 360p   \n",
              "3                                   grotto koth best   \n",
              "4                                     neal back baby   \n",
              "\n",
              "                                  parent_comment_cln             topic  label  \n",
              "0   shut fuck let commun decid want subreddit mod...       starcitizen      0  \n",
              "1   nee evid kil peopl thought sum execut suspect...  EnoughCommieSpam      1  \n",
              "2                          2014 bmw s1000r off promo       motorcycles      0  \n",
              "3     real mem lol want mem try badl templ ston heng        hcfactions      1  \n",
              "4                              jam neal hit zach par            hockey      1  "
            ],
            "text/html": [
              "\n",
              "  <div id=\"df-8fc8227a-d481-4c46-a1cc-a3386b439939\">\n",
              "    <div class=\"colab-df-container\">\n",
              "      <div>\n",
              "<style scoped>\n",
              "    .dataframe tbody tr th:only-of-type {\n",
              "        vertical-align: middle;\n",
              "    }\n",
              "\n",
              "    .dataframe tbody tr th {\n",
              "        vertical-align: top;\n",
              "    }\n",
              "\n",
              "    .dataframe thead th {\n",
              "        text-align: right;\n",
              "    }\n",
              "</style>\n",
              "<table border=\"1\" class=\"dataframe\">\n",
              "  <thead>\n",
              "    <tr style=\"text-align: right;\">\n",
              "      <th></th>\n",
              "      <th>comment_cln</th>\n",
              "      <th>parent_comment_cln</th>\n",
              "      <th>topic</th>\n",
              "      <th>label</th>\n",
              "    </tr>\n",
              "  </thead>\n",
              "  <tbody>\n",
              "    <tr>\n",
              "      <th>0</th>\n",
              "      <td>wel let honest act seem much mod spend tim so...</td>\n",
              "      <td>shut fuck let commun decid want subreddit mod...</td>\n",
              "      <td>starcitizen</td>\n",
              "      <td>0</td>\n",
              "    </tr>\n",
              "    <tr>\n",
              "      <th>1</th>\n",
              "      <td>wel nee evid believ commun</td>\n",
              "      <td>nee evid kil peopl thought sum execut suspect...</td>\n",
              "      <td>EnoughCommieSpam</td>\n",
              "      <td>1</td>\n",
              "    </tr>\n",
              "    <tr>\n",
              "      <th>2</th>\n",
              "      <td>off promo 360p</td>\n",
              "      <td>2014 bmw s1000r off promo</td>\n",
              "      <td>motorcycles</td>\n",
              "      <td>0</td>\n",
              "    </tr>\n",
              "    <tr>\n",
              "      <th>3</th>\n",
              "      <td>grotto koth best</td>\n",
              "      <td>real mem lol want mem try badl templ ston heng</td>\n",
              "      <td>hcfactions</td>\n",
              "      <td>1</td>\n",
              "    </tr>\n",
              "    <tr>\n",
              "      <th>4</th>\n",
              "      <td>neal back baby</td>\n",
              "      <td>jam neal hit zach par</td>\n",
              "      <td>hockey</td>\n",
              "      <td>1</td>\n",
              "    </tr>\n",
              "  </tbody>\n",
              "</table>\n",
              "</div>\n",
              "      <button class=\"colab-df-convert\" onclick=\"convertToInteractive('df-8fc8227a-d481-4c46-a1cc-a3386b439939')\"\n",
              "              title=\"Convert this dataframe to an interactive table.\"\n",
              "              style=\"display:none;\">\n",
              "        \n",
              "  <svg xmlns=\"http://www.w3.org/2000/svg\" height=\"24px\"viewBox=\"0 0 24 24\"\n",
              "       width=\"24px\">\n",
              "    <path d=\"M0 0h24v24H0V0z\" fill=\"none\"/>\n",
              "    <path d=\"M18.56 5.44l.94 2.06.94-2.06 2.06-.94-2.06-.94-.94-2.06-.94 2.06-2.06.94zm-11 1L8.5 8.5l.94-2.06 2.06-.94-2.06-.94L8.5 2.5l-.94 2.06-2.06.94zm10 10l.94 2.06.94-2.06 2.06-.94-2.06-.94-.94-2.06-.94 2.06-2.06.94z\"/><path d=\"M17.41 7.96l-1.37-1.37c-.4-.4-.92-.59-1.43-.59-.52 0-1.04.2-1.43.59L10.3 9.45l-7.72 7.72c-.78.78-.78 2.05 0 2.83L4 21.41c.39.39.9.59 1.41.59.51 0 1.02-.2 1.41-.59l7.78-7.78 2.81-2.81c.8-.78.8-2.07 0-2.86zM5.41 20L4 18.59l7.72-7.72 1.47 1.35L5.41 20z\"/>\n",
              "  </svg>\n",
              "      </button>\n",
              "      \n",
              "  <style>\n",
              "    .colab-df-container {\n",
              "      display:flex;\n",
              "      flex-wrap:wrap;\n",
              "      gap: 12px;\n",
              "    }\n",
              "\n",
              "    .colab-df-convert {\n",
              "      background-color: #E8F0FE;\n",
              "      border: none;\n",
              "      border-radius: 50%;\n",
              "      cursor: pointer;\n",
              "      display: none;\n",
              "      fill: #1967D2;\n",
              "      height: 32px;\n",
              "      padding: 0 0 0 0;\n",
              "      width: 32px;\n",
              "    }\n",
              "\n",
              "    .colab-df-convert:hover {\n",
              "      background-color: #E2EBFA;\n",
              "      box-shadow: 0px 1px 2px rgba(60, 64, 67, 0.3), 0px 1px 3px 1px rgba(60, 64, 67, 0.15);\n",
              "      fill: #174EA6;\n",
              "    }\n",
              "\n",
              "    [theme=dark] .colab-df-convert {\n",
              "      background-color: #3B4455;\n",
              "      fill: #D2E3FC;\n",
              "    }\n",
              "\n",
              "    [theme=dark] .colab-df-convert:hover {\n",
              "      background-color: #434B5C;\n",
              "      box-shadow: 0px 1px 3px 1px rgba(0, 0, 0, 0.15);\n",
              "      filter: drop-shadow(0px 1px 2px rgba(0, 0, 0, 0.3));\n",
              "      fill: #FFFFFF;\n",
              "    }\n",
              "  </style>\n",
              "\n",
              "      <script>\n",
              "        const buttonEl =\n",
              "          document.querySelector('#df-8fc8227a-d481-4c46-a1cc-a3386b439939 button.colab-df-convert');\n",
              "        buttonEl.style.display =\n",
              "          google.colab.kernel.accessAllowed ? 'block' : 'none';\n",
              "\n",
              "        async function convertToInteractive(key) {\n",
              "          const element = document.querySelector('#df-8fc8227a-d481-4c46-a1cc-a3386b439939');\n",
              "          const dataTable =\n",
              "            await google.colab.kernel.invokeFunction('convertToInteractive',\n",
              "                                                     [key], {});\n",
              "          if (!dataTable) return;\n",
              "\n",
              "          const docLinkHtml = 'Like what you see? Visit the ' +\n",
              "            '<a target=\"_blank\" href=https://colab.research.google.com/notebooks/data_table.ipynb>data table notebook</a>'\n",
              "            + ' to learn more about interactive tables.';\n",
              "          element.innerHTML = '';\n",
              "          dataTable['output_type'] = 'display_data';\n",
              "          await google.colab.output.renderOutput(dataTable, element);\n",
              "          const docLink = document.createElement('div');\n",
              "          docLink.innerHTML = docLinkHtml;\n",
              "          element.appendChild(docLink);\n",
              "        }\n",
              "      </script>\n",
              "    </div>\n",
              "  </div>\n",
              "  "
            ]
          },
          "metadata": {},
          "execution_count": 18
        }
      ]
    },
    {
      "cell_type": "code",
      "source": [
        "cln_stemm_df = pd.DataFrame()\n",
        "cln_stemm_df['comment_cln'] = clean_lemm_stemm_sent(raw_df['comment'],'stemm')\n",
        "cln_stemm_df['parent_comment_cln'] = clean_lemm_stemm_sent(raw_df['parent_comment'],'stemm')\n",
        "cln_stemm_df['topic'] = list(raw_df['topic'])\n",
        "cln_stemm_df['label'] = list(raw_df['label'])\n",
        "cln_stemm_df.head(5)"
      ],
      "metadata": {
        "id": "2pIhXu5SwBAo",
        "colab": {
          "base_uri": "https://localhost:8080/",
          "height": 206
        },
        "outputId": "ad86dbb9-f9bc-4085-b07c-1636b94bcfeb"
      },
      "execution_count": 19,
      "outputs": [
        {
          "output_type": "execute_result",
          "data": {
            "text/plain": [
              "                                         comment_cln  \\\n",
              "0   well let honest actual seem much moder spend ...   \n",
              "1                       well need evid believ commun   \n",
              "2                                  offici promo 360p   \n",
              "3                                   grotto koth best   \n",
              "4                                     neal back babi   \n",
              "\n",
              "                                  parent_comment_cln             topic  label  \n",
              "0   shut fuck let commun decid want subreddit mod...       starcitizen      0  \n",
              "1   need evid kill peopl thought summarili execut...  EnoughCommieSpam      1  \n",
              "2                       2014 bmw s1000r offici promo       motorcycles      0  \n",
              "3   realli memor lol want memor tri badlion templ...        hcfactions      1  \n",
              "4                           jame neal hit zach paris            hockey      1  "
            ],
            "text/html": [
              "\n",
              "  <div id=\"df-d6ee4ff5-c86a-42ba-8bc5-da217087fa3f\">\n",
              "    <div class=\"colab-df-container\">\n",
              "      <div>\n",
              "<style scoped>\n",
              "    .dataframe tbody tr th:only-of-type {\n",
              "        vertical-align: middle;\n",
              "    }\n",
              "\n",
              "    .dataframe tbody tr th {\n",
              "        vertical-align: top;\n",
              "    }\n",
              "\n",
              "    .dataframe thead th {\n",
              "        text-align: right;\n",
              "    }\n",
              "</style>\n",
              "<table border=\"1\" class=\"dataframe\">\n",
              "  <thead>\n",
              "    <tr style=\"text-align: right;\">\n",
              "      <th></th>\n",
              "      <th>comment_cln</th>\n",
              "      <th>parent_comment_cln</th>\n",
              "      <th>topic</th>\n",
              "      <th>label</th>\n",
              "    </tr>\n",
              "  </thead>\n",
              "  <tbody>\n",
              "    <tr>\n",
              "      <th>0</th>\n",
              "      <td>well let honest actual seem much moder spend ...</td>\n",
              "      <td>shut fuck let commun decid want subreddit mod...</td>\n",
              "      <td>starcitizen</td>\n",
              "      <td>0</td>\n",
              "    </tr>\n",
              "    <tr>\n",
              "      <th>1</th>\n",
              "      <td>well need evid believ commun</td>\n",
              "      <td>need evid kill peopl thought summarili execut...</td>\n",
              "      <td>EnoughCommieSpam</td>\n",
              "      <td>1</td>\n",
              "    </tr>\n",
              "    <tr>\n",
              "      <th>2</th>\n",
              "      <td>offici promo 360p</td>\n",
              "      <td>2014 bmw s1000r offici promo</td>\n",
              "      <td>motorcycles</td>\n",
              "      <td>0</td>\n",
              "    </tr>\n",
              "    <tr>\n",
              "      <th>3</th>\n",
              "      <td>grotto koth best</td>\n",
              "      <td>realli memor lol want memor tri badlion templ...</td>\n",
              "      <td>hcfactions</td>\n",
              "      <td>1</td>\n",
              "    </tr>\n",
              "    <tr>\n",
              "      <th>4</th>\n",
              "      <td>neal back babi</td>\n",
              "      <td>jame neal hit zach paris</td>\n",
              "      <td>hockey</td>\n",
              "      <td>1</td>\n",
              "    </tr>\n",
              "  </tbody>\n",
              "</table>\n",
              "</div>\n",
              "      <button class=\"colab-df-convert\" onclick=\"convertToInteractive('df-d6ee4ff5-c86a-42ba-8bc5-da217087fa3f')\"\n",
              "              title=\"Convert this dataframe to an interactive table.\"\n",
              "              style=\"display:none;\">\n",
              "        \n",
              "  <svg xmlns=\"http://www.w3.org/2000/svg\" height=\"24px\"viewBox=\"0 0 24 24\"\n",
              "       width=\"24px\">\n",
              "    <path d=\"M0 0h24v24H0V0z\" fill=\"none\"/>\n",
              "    <path d=\"M18.56 5.44l.94 2.06.94-2.06 2.06-.94-2.06-.94-.94-2.06-.94 2.06-2.06.94zm-11 1L8.5 8.5l.94-2.06 2.06-.94-2.06-.94L8.5 2.5l-.94 2.06-2.06.94zm10 10l.94 2.06.94-2.06 2.06-.94-2.06-.94-.94-2.06-.94 2.06-2.06.94z\"/><path d=\"M17.41 7.96l-1.37-1.37c-.4-.4-.92-.59-1.43-.59-.52 0-1.04.2-1.43.59L10.3 9.45l-7.72 7.72c-.78.78-.78 2.05 0 2.83L4 21.41c.39.39.9.59 1.41.59.51 0 1.02-.2 1.41-.59l7.78-7.78 2.81-2.81c.8-.78.8-2.07 0-2.86zM5.41 20L4 18.59l7.72-7.72 1.47 1.35L5.41 20z\"/>\n",
              "  </svg>\n",
              "      </button>\n",
              "      \n",
              "  <style>\n",
              "    .colab-df-container {\n",
              "      display:flex;\n",
              "      flex-wrap:wrap;\n",
              "      gap: 12px;\n",
              "    }\n",
              "\n",
              "    .colab-df-convert {\n",
              "      background-color: #E8F0FE;\n",
              "      border: none;\n",
              "      border-radius: 50%;\n",
              "      cursor: pointer;\n",
              "      display: none;\n",
              "      fill: #1967D2;\n",
              "      height: 32px;\n",
              "      padding: 0 0 0 0;\n",
              "      width: 32px;\n",
              "    }\n",
              "\n",
              "    .colab-df-convert:hover {\n",
              "      background-color: #E2EBFA;\n",
              "      box-shadow: 0px 1px 2px rgba(60, 64, 67, 0.3), 0px 1px 3px 1px rgba(60, 64, 67, 0.15);\n",
              "      fill: #174EA6;\n",
              "    }\n",
              "\n",
              "    [theme=dark] .colab-df-convert {\n",
              "      background-color: #3B4455;\n",
              "      fill: #D2E3FC;\n",
              "    }\n",
              "\n",
              "    [theme=dark] .colab-df-convert:hover {\n",
              "      background-color: #434B5C;\n",
              "      box-shadow: 0px 1px 3px 1px rgba(0, 0, 0, 0.15);\n",
              "      filter: drop-shadow(0px 1px 2px rgba(0, 0, 0, 0.3));\n",
              "      fill: #FFFFFF;\n",
              "    }\n",
              "  </style>\n",
              "\n",
              "      <script>\n",
              "        const buttonEl =\n",
              "          document.querySelector('#df-d6ee4ff5-c86a-42ba-8bc5-da217087fa3f button.colab-df-convert');\n",
              "        buttonEl.style.display =\n",
              "          google.colab.kernel.accessAllowed ? 'block' : 'none';\n",
              "\n",
              "        async function convertToInteractive(key) {\n",
              "          const element = document.querySelector('#df-d6ee4ff5-c86a-42ba-8bc5-da217087fa3f');\n",
              "          const dataTable =\n",
              "            await google.colab.kernel.invokeFunction('convertToInteractive',\n",
              "                                                     [key], {});\n",
              "          if (!dataTable) return;\n",
              "\n",
              "          const docLinkHtml = 'Like what you see? Visit the ' +\n",
              "            '<a target=\"_blank\" href=https://colab.research.google.com/notebooks/data_table.ipynb>data table notebook</a>'\n",
              "            + ' to learn more about interactive tables.';\n",
              "          element.innerHTML = '';\n",
              "          dataTable['output_type'] = 'display_data';\n",
              "          await google.colab.output.renderOutput(dataTable, element);\n",
              "          const docLink = document.createElement('div');\n",
              "          docLink.innerHTML = docLinkHtml;\n",
              "          element.appendChild(docLink);\n",
              "        }\n",
              "      </script>\n",
              "    </div>\n",
              "  </div>\n",
              "  "
            ]
          },
          "metadata": {},
          "execution_count": 19
        }
      ]
    },
    {
      "cell_type": "code",
      "source": [
        "clean_txt_list = clean_txt(raw_df['comment'])\n",
        "stdapprch_list = get_lemm(clean_txt_list)\n",
        "# stdapprch_list"
      ],
      "metadata": {
        "id": "PfBEhG3VG2kT"
      },
      "execution_count": 20,
      "outputs": []
    },
    {
      "cell_type": "code",
      "source": [
        "## Create Vocabulary\n",
        "voc_list = []\n",
        "for data_ele in stdapprch_list:\n",
        "    voc_list.extend(data_ele)\n",
        "print(voc_list[:20])\n",
        "print(len(voc_list))"
      ],
      "metadata": {
        "id": "B9rZew-Txvym",
        "colab": {
          "base_uri": "https://localhost:8080/"
        },
        "outputId": "ff96ec18-429e-4953-e4e3-c4df020961bf"
      },
      "execution_count": 21,
      "outputs": [
        {
          "output_type": "stream",
          "name": "stdout",
          "text": [
            "['wel', 'let', 'honest', 'act', 'seem', 'much', 'mod', 'spend', 'tim', 'someth', 'wel', 'nee', 'evid', 'believ', 'commun', 'off', 'promo', '360p', 'grotto', 'koth']\n",
            "83663\n"
          ]
        }
      ]
    },
    {
      "cell_type": "code",
      "source": [
        "CountVectorizer"
      ],
      "metadata": {
        "id": "rTRe4VUMLpf3",
        "colab": {
          "base_uri": "https://localhost:8080/"
        },
        "outputId": "1e677e39-e644-41d3-d33e-0653f834aebf"
      },
      "execution_count": 22,
      "outputs": [
        {
          "output_type": "execute_result",
          "data": {
            "text/plain": [
              "sklearn.feature_extraction.text.CountVectorizer"
            ]
          },
          "metadata": {},
          "execution_count": 22
        }
      ]
    },
    {
      "cell_type": "markdown",
      "source": [
        "Function for CountVectorizing and getting Top N keywords"
      ],
      "metadata": {
        "id": "kUz6GBn4S_Up"
      }
    },
    {
      "cell_type": "code",
      "source": [
        "def get_topCVterms(p_df,p_topn=5):\n",
        "  vec = CountVectorizer(min_df=2,max_df=0.95)\n",
        "  res = vec.fit_transform(p_df)\n",
        "  print(res.shape)\n",
        "\n",
        "  feature_array = np.array(vec.get_feature_names())\n",
        "  CV_sorting = np.argsort(res.toarray()).flatten()[::-1]\n",
        "\n",
        "  top_n = feature_array[CV_sorting][:p_topn]\n",
        "  return top_n"
      ],
      "metadata": {
        "id": "IosfrMk1QSMh"
      },
      "execution_count": 23,
      "outputs": []
    },
    {
      "cell_type": "markdown",
      "source": [
        "CountVectorize and show top 50 significant keywords in Lemmatized overall Comments"
      ],
      "metadata": {
        "id": "BuLND_uaSnwY"
      }
    },
    {
      "cell_type": "code",
      "source": [
        "get_topCVterms(cln_lemm_df['comment_cln'],50)"
      ],
      "metadata": {
        "id": "nUG4WzAbQeo_",
        "colab": {
          "base_uri": "https://localhost:8080/"
        },
        "outputId": "bb35f5e1-59b2-4464-94b8-f561adb4bcf3"
      },
      "execution_count": 24,
      "outputs": [
        {
          "output_type": "stream",
          "name": "stdout",
          "text": [
            "(15000, 5104)\n"
          ]
        },
        {
          "output_type": "stream",
          "name": "stderr",
          "text": [
            "/usr/local/lib/python3.7/dist-packages/sklearn/utils/deprecation.py:87: FutureWarning: Function get_feature_names is deprecated; get_feature_names is deprecated in 1.0 and will be removed in 1.2. Please use get_feature_names_out instead.\n",
            "  warnings.warn(msg, category=FutureWarning)\n"
          ]
        },
        {
          "output_type": "execute_result",
          "data": {
            "text/plain": [
              "array(['menu', 'glory', 'window', 'perfect', 'start', '10', 'favorit',\n",
              "       'fash', 'fb', 'fart', 'farth', 'fasc', 'fascin', 'favourit',\n",
              "       'fast', 'fav', 'fastest', 'fat', 'farm', 'fatty', 'fault', 'faux',\n",
              "       'fath', 'zum', 'fargo', 'famili', 'fairy', 'fak', 'fal', 'falcon',\n",
              "       'fallout', 'fals', 'fam', 'famy', 'far', 'fan', 'fanbas', 'fanboy',\n",
              "       'fant', 'fantast', 'fantasy', 'fap', 'fbi', 'feat', 'fda', 'film',\n",
              "       'fi', 'fict', 'field', 'fif'], dtype='<U15')"
            ]
          },
          "metadata": {},
          "execution_count": 24
        }
      ]
    },
    {
      "cell_type": "markdown",
      "source": [
        "CountVectorize and show top 50 significant keywords in Lemmatized Non-Sarcasm Comments"
      ],
      "metadata": {
        "id": "t0o-6ZvySx6R"
      }
    },
    {
      "cell_type": "code",
      "source": [
        "get_topCVterms(cln_lemm_df.loc[cln_lemm_df['label'] == 0]['comment_cln'],50)"
      ],
      "metadata": {
        "id": "VyY0_YNSSJ-L",
        "colab": {
          "base_uri": "https://localhost:8080/"
        },
        "outputId": "1ae10547-4385-4a5b-fc17-59d7f39770de"
      },
      "execution_count": 25,
      "outputs": [
        {
          "output_type": "stream",
          "name": "stdout",
          "text": [
            "(7473, 3423)\n"
          ]
        },
        {
          "output_type": "stream",
          "name": "stderr",
          "text": [
            "/usr/local/lib/python3.7/dist-packages/sklearn/utils/deprecation.py:87: FutureWarning: Function get_feature_names is deprecated; get_feature_names is deprecated in 1.0 and will be removed in 1.2. Please use get_feature_names_out instead.\n",
            "  warnings.warn(msg, category=FutureWarning)\n"
          ]
        },
        {
          "output_type": "execute_result",
          "data": {
            "text/plain": [
              "array(['yep', 'zon', 'fai', 'famy', 'famili', 'fam', 'fallout', 'falcon',\n",
              "       'fal', 'fak', 'fairy', 'fair', 'fail', 'faggot', 'fanboy', 'fact',\n",
              "       'facil', 'facebook', 'fac', 'f5', 'ez', 'ey', 'extrem', 'extract',\n",
              "       'extr', 'extinct', 'fan', 'fant', 'ext', 'fantast', 'feet', 'feel',\n",
              "       'feedback', 'fee', 'fed', 'febru', 'feat', 'fear', 'fb',\n",
              "       'favourit', 'favorit', 'fav', 'faux', 'fault', 'fatty', 'fath',\n",
              "       'fat', 'fastest', 'fast', 'fasc'], dtype='<U15')"
            ]
          },
          "metadata": {},
          "execution_count": 25
        }
      ]
    },
    {
      "cell_type": "markdown",
      "source": [
        "CountVectorize and show top 50 significant keywords in Lemmatized Sarcasm Comments"
      ],
      "metadata": {
        "id": "5GdGQdjLS504"
      }
    },
    {
      "cell_type": "code",
      "source": [
        "get_topCVterms(cln_lemm_df.loc[cln_lemm_df['label'] == 1]['comment_cln'],50)"
      ],
      "metadata": {
        "id": "o9Q5vq2rSatj",
        "colab": {
          "base_uri": "https://localhost:8080/"
        },
        "outputId": "e6457907-7e7b-4afb-a802-8670b408fa3a"
      },
      "execution_count": 26,
      "outputs": [
        {
          "output_type": "stream",
          "name": "stdout",
          "text": [
            "(7527, 3302)\n"
          ]
        },
        {
          "output_type": "stream",
          "name": "stderr",
          "text": [
            "/usr/local/lib/python3.7/dist-packages/sklearn/utils/deprecation.py:87: FutureWarning: Function get_feature_names is deprecated; get_feature_names is deprecated in 1.0 and will be removed in 1.2. Please use get_feature_names_out instead.\n",
            "  warnings.warn(msg, category=FutureWarning)\n"
          ]
        },
        {
          "output_type": "execute_result",
          "data": {
            "text/plain": [
              "array(['perfect', 'glory', 'start', 'window', 'menu', '10', 'faggot',\n",
              "       'fam', 'fals', 'fallout', 'falcon', 'fal', 'fak', 'fairy', 'fair',\n",
              "       'fail', 'fai', 'fag', 'fan', 'fad', 'fact', 'facilit', 'facebook',\n",
              "       'fac', 'ez', 'ey', 'extrem', 'extract', 'extr', 'famy', 'fanbas',\n",
              "       'front', 'fath', 'fed', 'feat', 'fear', 'fda', 'fbi', 'favourit',\n",
              "       'favorit', 'fav', 'fault', 'fatty', 'fat', 'fanboy', 'fastest',\n",
              "       'fast', 'fash', 'fasc', 'fart'], dtype='<U13')"
            ]
          },
          "metadata": {},
          "execution_count": 26
        }
      ]
    },
    {
      "cell_type": "markdown",
      "source": [
        "Function for TFIDF and getting Top N keywords"
      ],
      "metadata": {
        "id": "ibEBvyP5TLGJ"
      }
    },
    {
      "cell_type": "code",
      "source": [
        "def get_toptfidfterms(p_df,p_topn=5):\n",
        "  v = TfidfVectorizer(min_df=2,max_df=0.95)\n",
        "  x = v.fit_transform(p_df)\n",
        "  print(x.shape)\n",
        "\n",
        "  feature_array = np.array(v.get_feature_names())\n",
        "  tfidf_sorting = np.argsort(x.toarray()).flatten()[::-1]\n",
        "\n",
        "  top_n = feature_array[tfidf_sorting][:p_topn]\n",
        "  return top_n"
      ],
      "metadata": {
        "id": "TWo0xOfSOGFT"
      },
      "execution_count": 27,
      "outputs": []
    },
    {
      "cell_type": "markdown",
      "source": [
        "TFIDF and show top 50 significant keywords in Lemmatizedoverall Comments"
      ],
      "metadata": {
        "id": "FeYUE3HBLuNd"
      }
    },
    {
      "cell_type": "code",
      "source": [
        "get_toptfidfterms(cln_lemm_df['comment_cln'],50)"
      ],
      "metadata": {
        "id": "JcjGQRZHGnMw",
        "colab": {
          "base_uri": "https://localhost:8080/"
        },
        "outputId": "8fc12085-c0f7-40c6-a37f-cb898681b565"
      },
      "execution_count": 28,
      "outputs": [
        {
          "output_type": "stream",
          "name": "stdout",
          "text": [
            "(15000, 5104)\n"
          ]
        },
        {
          "output_type": "stream",
          "name": "stderr",
          "text": [
            "/usr/local/lib/python3.7/dist-packages/sklearn/utils/deprecation.py:87: FutureWarning: Function get_feature_names is deprecated; get_feature_names is deprecated in 1.0 and will be removed in 1.2. Please use get_feature_names_out instead.\n",
            "  warnings.warn(msg, category=FutureWarning)\n"
          ]
        },
        {
          "output_type": "execute_result",
          "data": {
            "text/plain": [
              "array(['menu', 'glory', 'window', 'perfect', '10', 'start', 'fav', 'fash',\n",
              "       'fb', 'fart', 'farth', 'fasc', 'fascin', 'favourit', 'fast',\n",
              "       'faux', 'fastest', 'fat', 'farm', 'fatty', 'fault', 'favorit',\n",
              "       'fath', 'zum', 'fargo', 'famili', 'fairy', 'fak', 'fal', 'falcon',\n",
              "       'fallout', 'fals', 'fam', 'famy', 'far', 'fan', 'fanbas', 'fanboy',\n",
              "       'fant', 'fantast', 'fantasy', 'fap', 'fbi', 'feat', 'fda', 'film',\n",
              "       'fi', 'fict', 'field', 'fif'], dtype='<U15')"
            ]
          },
          "metadata": {},
          "execution_count": 28
        }
      ]
    },
    {
      "cell_type": "markdown",
      "source": [
        "TFIDF and show top 50 significant keywords in Lemmatized Non-Sarcasm Comments"
      ],
      "metadata": {
        "id": "y5bvJUd8Mm41"
      }
    },
    {
      "cell_type": "code",
      "source": [
        "get_toptfidfterms(cln_lemm_df.loc[cln_lemm_df['label'] == 0]['comment_cln'],50)"
      ],
      "metadata": {
        "id": "2iyCqDUKObFU",
        "colab": {
          "base_uri": "https://localhost:8080/"
        },
        "outputId": "750ec064-097a-4a6d-d88e-f759f5fdb180"
      },
      "execution_count": 29,
      "outputs": [
        {
          "output_type": "stream",
          "name": "stdout",
          "text": [
            "(7473, 3423)\n"
          ]
        },
        {
          "output_type": "stream",
          "name": "stderr",
          "text": [
            "/usr/local/lib/python3.7/dist-packages/sklearn/utils/deprecation.py:87: FutureWarning: Function get_feature_names is deprecated; get_feature_names is deprecated in 1.0 and will be removed in 1.2. Please use get_feature_names_out instead.\n",
            "  warnings.warn(msg, category=FutureWarning)\n"
          ]
        },
        {
          "output_type": "execute_result",
          "data": {
            "text/plain": [
              "array(['yep', 'zon', 'fai', 'famy', 'famili', 'fam', 'fallout', 'falcon',\n",
              "       'fal', 'fak', 'fairy', 'fair', 'fail', 'faggot', 'fanboy', 'fact',\n",
              "       'facil', 'facebook', 'fac', 'f5', 'ez', 'ey', 'extrem', 'extract',\n",
              "       'extr', 'extinct', 'fan', 'fant', 'ext', 'fantast', 'feet', 'feel',\n",
              "       'feedback', 'fee', 'fed', 'febru', 'feat', 'fear', 'fb',\n",
              "       'favourit', 'favorit', 'fav', 'faux', 'fault', 'fatty', 'fath',\n",
              "       'fat', 'fastest', 'fast', 'fasc'], dtype='<U15')"
            ]
          },
          "metadata": {},
          "execution_count": 29
        }
      ]
    },
    {
      "cell_type": "markdown",
      "source": [
        "TFIDF and show top 50 significant keywords in Lemmatized Sarcasm Comments"
      ],
      "metadata": {
        "id": "u8YO__k0NuQ9"
      }
    },
    {
      "cell_type": "code",
      "source": [
        "get_toptfidfterms(cln_lemm_df.loc[cln_lemm_df['label'] == 1]['comment_cln'],50)"
      ],
      "metadata": {
        "id": "BMqp3gcAMzHi",
        "colab": {
          "base_uri": "https://localhost:8080/"
        },
        "outputId": "871688ce-505e-49eb-815e-d5bb05357b62"
      },
      "execution_count": 30,
      "outputs": [
        {
          "output_type": "stream",
          "name": "stdout",
          "text": [
            "(7527, 3302)\n"
          ]
        },
        {
          "output_type": "stream",
          "name": "stderr",
          "text": [
            "/usr/local/lib/python3.7/dist-packages/sklearn/utils/deprecation.py:87: FutureWarning: Function get_feature_names is deprecated; get_feature_names is deprecated in 1.0 and will be removed in 1.2. Please use get_feature_names_out instead.\n",
            "  warnings.warn(msg, category=FutureWarning)\n"
          ]
        },
        {
          "output_type": "execute_result",
          "data": {
            "text/plain": [
              "array(['menu', 'glory', 'window', 'perfect', '10', 'start', 'fai', 'fam',\n",
              "       'fals', 'fallout', 'falcon', 'fal', 'fak', 'fairy', 'fair', 'fail',\n",
              "       'faggot', 'fan', 'fag', 'fad', 'fact', 'facilit', 'facebook',\n",
              "       'fac', 'ez', 'ey', 'extrem', 'extract', 'famy', 'fanbas', 'extend',\n",
              "       'fath', 'fed', 'feat', 'fear', 'fda', 'fbi', 'favourit', 'favorit',\n",
              "       'fav', 'fault', 'fatty', 'fat', 'fanboy', 'fastest', 'fast',\n",
              "       'fash', 'fasc', 'fart', 'farm'], dtype='<U13')"
            ]
          },
          "metadata": {},
          "execution_count": 30
        }
      ]
    },
    {
      "cell_type": "code",
      "source": [
        ""
      ],
      "metadata": {
        "id": "H98WJzrKOokc"
      },
      "execution_count": 30,
      "outputs": []
    },
    {
      "cell_type": "code",
      "source": [
        "Train_X, Test_X, Train_y, Test_y = model_selection.train_test_split(cln_lemm_df['comment_cln'],cln_lemm_df['label'],random_state=123)\n",
        "\n",
        "# Encoder = LabelEncoder()\n",
        "# Train_y = Encoder.fit_transform(Train_y)\n",
        "# Test_y = Encoder.fit_transform(Test_y)\n",
        "\n",
        "tfidf_vect = TfidfVectorizer(max_features = 5000)\n",
        "tfidf_vect.fit(cln_lemm_df['comment_cln'])\n",
        "train_x_tfidf = tfidf_vect.transform(Train_X)\n",
        "test_x_tfidf = tfidf_vect.transform(Test_X)"
      ],
      "metadata": {
        "id": "Npq9qaQPUUkU"
      },
      "execution_count": 31,
      "outputs": []
    },
    {
      "cell_type": "markdown",
      "source": [
        "Logistic Regression Model on TFIDF Vectorized text data"
      ],
      "metadata": {
        "id": "Y7uARXkJWWqE"
      }
    },
    {
      "cell_type": "code",
      "source": [
        "lr_model = LogisticRegression(C=1.0)\n",
        "lr_model.fit(train_x_tfidf, Train_y)\n",
        "pred_lr = lr_model.predict(test_x_tfidf)\n",
        "print(\"Accuracy Score :\", accuracy_score(pred_lr,Test_y)*100)"
      ],
      "metadata": {
        "id": "QCgbCNp4U6Sm",
        "colab": {
          "base_uri": "https://localhost:8080/"
        },
        "outputId": "ac42ec80-da20-49f2-fde2-5ca78d7282cb"
      },
      "execution_count": 32,
      "outputs": [
        {
          "output_type": "stream",
          "name": "stdout",
          "text": [
            "Accuracy Score : 62.66666666666667\n"
          ]
        }
      ]
    },
    {
      "cell_type": "markdown",
      "source": [
        "SVM Model on TFIDF Vectorized text data"
      ],
      "metadata": {
        "id": "wi2FAm3CWa63"
      }
    },
    {
      "cell_type": "code",
      "source": [
        "SVM = SVC(C=1.0,kernel='linear',degree = 3, gamma = 'auto')\n",
        "SVM.fit(train_x_tfidf, Train_y)\n",
        "pred_svm = SVM.predict(test_x_tfidf)\n",
        "print(\"Accuracy Score :\", accuracy_score(pred_svm,Test_y)*100)"
      ],
      "metadata": {
        "id": "-gP1ZDrzU3jR",
        "colab": {
          "base_uri": "https://localhost:8080/"
        },
        "outputId": "79daf7e2-aa48-4a77-8d0a-b1de7049699f"
      },
      "execution_count": 33,
      "outputs": [
        {
          "output_type": "stream",
          "name": "stdout",
          "text": [
            "Accuracy Score : 61.519999999999996\n"
          ]
        }
      ]
    },
    {
      "cell_type": "code",
      "source": [
        "Train_X.shape"
      ],
      "metadata": {
        "id": "V0BLxcevWOA1",
        "colab": {
          "base_uri": "https://localhost:8080/"
        },
        "outputId": "6273390c-3e5f-4a32-99a7-85cbbc5701a2"
      },
      "execution_count": 34,
      "outputs": [
        {
          "output_type": "execute_result",
          "data": {
            "text/plain": [
              "(11250,)"
            ]
          },
          "metadata": {},
          "execution_count": 34
        }
      ]
    },
    {
      "cell_type": "code",
      "source": [
        "train_x_tfidf.shape"
      ],
      "metadata": {
        "id": "0hUA0gCnwoo4",
        "colab": {
          "base_uri": "https://localhost:8080/"
        },
        "outputId": "65247d76-102d-43b1-ad04-eb40918ac4fe"
      },
      "execution_count": 35,
      "outputs": [
        {
          "output_type": "execute_result",
          "data": {
            "text/plain": [
              "(11250, 5000)"
            ]
          },
          "metadata": {},
          "execution_count": 35
        }
      ]
    },
    {
      "cell_type": "code",
      "source": [
        "# # create tfidf2\n",
        "# tfidf2 = tdf.transform(list_cluster)\n",
        "\n",
        "# #create dates\n",
        "# dates=['010000000000', '001000000000', '001000000000', '000000000001', '001000000000', '000000000010',...]\n",
        "\n",
        "# # binarize dates\n",
        "# lb = LabelBinarizer()\n",
        "# b_dates = lb.fit_transform(dates)\n",
        "\n",
        "# new_tfidf = np.concatenate((tfidf2, b_dates), axis=1)"
      ],
      "metadata": {
        "id": "M0HDQfbGxXFo"
      },
      "execution_count": 36,
      "outputs": []
    },
    {
      "cell_type": "code",
      "source": [
        "cln_lemm_df = pd.concat([cln_lemm_df, pd.get_dummies(cln_lemm_df['topic'])],axis=1).drop(columns=['topic'])"
      ],
      "metadata": {
        "id": "ng0dC_JBMNtV"
      },
      "execution_count": 37,
      "outputs": []
    },
    {
      "cell_type": "code",
      "source": [
        "Train_X, Test_X, Train_y, Test_y = model_selection.train_test_split(cln_lemm_df.drop(columns=['label']),cln_lemm_df['label'],random_state=123)\n",
        "\n",
        "# Encoder = LabelEncoder()\n",
        "# Train_y = Encoder.fit_transform(Train_y)\n",
        "# Test_y = Encoder.fit_transform(Test_y)\n",
        "\n",
        "tfidf_vect = TfidfVectorizer(max_features = 5000)\n",
        "tfidf_vect.fit(cln_lemm_df['comment_cln'])\n",
        "train_x_tfidf_stdcmnt = tfidf_vect.transform(Train_X['comment_cln'])\n",
        "test_x_tfid_stdcmnt = tfidf_vect.transform(Test_X['comment_cln'])\n",
        "\n",
        "tfidf_vect = TfidfVectorizer(max_features = 5000)\n",
        "tfidf_vect.fit(cln_lemm_df['parent_comment_cln'])\n",
        "train_x_tfidf_prntcmnt = tfidf_vect.transform(Train_X['parent_comment_cln'])\n",
        "test_x_tfidf_prntcmnt = tfidf_vect.transform(Test_X['parent_comment_cln'])"
      ],
      "metadata": {
        "id": "CNjNWX0YyR5s"
      },
      "execution_count": 38,
      "outputs": []
    },
    {
      "cell_type": "code",
      "source": [
        "train_x_tfidf_stdcmnt.shape, test_x_tfid_stdcmnt.shape, train_x_tfidf_prntcmnt.shape, test_x_tfidf_prntcmnt.shape"
      ],
      "metadata": {
        "id": "j6UovIzU1qwv",
        "colab": {
          "base_uri": "https://localhost:8080/"
        },
        "outputId": "a7b9c543-30d2-4f27-ee50-8de4377e3534"
      },
      "execution_count": 39,
      "outputs": [
        {
          "output_type": "execute_result",
          "data": {
            "text/plain": [
              "((11250, 5000), (3750, 5000), (11250, 5000), (3750, 5000))"
            ]
          },
          "metadata": {},
          "execution_count": 39
        }
      ]
    },
    {
      "cell_type": "code",
      "source": [
        "cln_lemm_df.columns"
      ],
      "metadata": {
        "id": "JxguxPmUPeXf",
        "colab": {
          "base_uri": "https://localhost:8080/"
        },
        "outputId": "8443978b-ff9f-493e-dfe5-6771799155a8"
      },
      "execution_count": 40,
      "outputs": [
        {
          "output_type": "execute_result",
          "data": {
            "text/plain": [
              "Index(['comment_cln', 'parent_comment_cln', 'label', '100DaysofKeto',\n",
              "       '100thieves', '112263Hulu', '2007scape', '2meirl4meirl', '30ROCK',\n",
              "       '3DS',\n",
              "       ...\n",
              "       'xxfitness', 'yard', 'yesyesyesyesno', 'ynab', 'youdontsurf',\n",
              "       'youtubehaiku', 'yoyhammer', 'yugioh', 'zelda', 'zen'],\n",
              "      dtype='object', length=2275)"
            ]
          },
          "metadata": {},
          "execution_count": 40
        }
      ]
    },
    {
      "cell_type": "code",
      "source": [
        "Train_X.shape"
      ],
      "metadata": {
        "id": "LRVBgjXgQ01W",
        "colab": {
          "base_uri": "https://localhost:8080/"
        },
        "outputId": "d06336de-6960-47fa-e890-9c9ec3ae62f0"
      },
      "execution_count": 41,
      "outputs": [
        {
          "output_type": "execute_result",
          "data": {
            "text/plain": [
              "(11250, 2274)"
            ]
          },
          "metadata": {},
          "execution_count": 41
        }
      ]
    },
    {
      "cell_type": "code",
      "source": [
        "pd.DataFrame(train_x_tfidf_stdcmnt.toarray()).shape"
      ],
      "metadata": {
        "id": "dLbJjLXHQ8QP",
        "colab": {
          "base_uri": "https://localhost:8080/"
        },
        "outputId": "ba7d920f-2d85-4aa0-c782-eb90b9caec4a"
      },
      "execution_count": 42,
      "outputs": [
        {
          "output_type": "execute_result",
          "data": {
            "text/plain": [
              "(11250, 5000)"
            ]
          },
          "metadata": {},
          "execution_count": 42
        }
      ]
    },
    {
      "cell_type": "code",
      "source": [
        "Train_X.drop(columns=['comment_cln','parent_comment_cln']).shape"
      ],
      "metadata": {
        "id": "cEKd564tQ-tg",
        "colab": {
          "base_uri": "https://localhost:8080/"
        },
        "outputId": "f3580df3-7b29-489d-87e7-6159bde07d0b"
      },
      "execution_count": 43,
      "outputs": [
        {
          "output_type": "execute_result",
          "data": {
            "text/plain": [
              "(11250, 2272)"
            ]
          },
          "metadata": {},
          "execution_count": 43
        }
      ]
    },
    {
      "cell_type": "code",
      "source": [
        "# train_x_tfidf_stdcmnt_df = pd.DataFrame(train_x_tfidf_stdcmnt.toarray()).reset_index(drop=True)\n",
        "# train_x_tfidf_prntcmnt_df = pd.DataFrame(train_x_tfidf_prntcmnt.toarray()).reset_index(drop=True)\n",
        "# train_x_enccols = Train_X.drop(columns=['comment_cln','parent_comment_cln']).reset_index()\n",
        "\n",
        "# print(train_x_tfidf_stdcmnt_df.shape,train_x_tfidf_stdcmnt_df.shape, train_x_enccols.shape)\n",
        "\n",
        "# train_x_full = pd.concat([train_x_tfidf_stdcmnt_df,train_x_tfidf_prntcmnt_df,train_x_enccols],axis=1,ignore_index=True)\n",
        "\n",
        "\n",
        "# test_x_tfid_stdcmnt_df = pd.DataFrame(test_x_tfid_stdcmnt.toarray()).reset_index(drop=True)\n",
        "# test_x_tfidf_prntcmnt_df = pd.DataFrame(test_x_tfidf_prntcmnt.toarray()).reset_index(drop=True)\n",
        "# test_x_enccols = Test_X.drop(columns=['comment_cln','parent_comment_cln']).reset_index()\n",
        "\n",
        "# print(test_x_tfid_stdcmnt_df.shape,test_x_tfidf_prntcmnt_df.shape, test_x_enccols.shape)\n",
        "\n",
        "# test_x_full = pd.concat([test_x_tfid_stdcmnt_df,test_x_tfidf_prntcmnt_df,test_x_enccols],axis=1,ignore_index=True)\n",
        "\n",
        "# lr_model = LogisticRegression(C=1.0)\n",
        "# lr_model.fit(train_x_full, Train_y)\n",
        "# pred_lr = lr_model.predict(test_x_full)\n",
        "# print(\"Accuracy Score LR:\", accuracy_score(pred_lr,Test_y)*100)\n",
        "\n",
        "# gnb_classifier = GaussianNB()\n",
        "# gnb_classifier.fit(train_x_full, Train_y)\n",
        "# gnb_pred  =  gnb_classifier.predict(test_x_full)\n",
        "# print(\"Accuracy Score GaussianNB:\", accuracy_score(gnb_pred,Test_y)*100)\n",
        "\n",
        "# lda_model = LinearDiscriminantAnalysis(n_components=1)\n",
        "# lda_model.fit(train_x_full, Train_y)\n",
        "# lda_pred = lda_model.predict(test_x_full)\n",
        "# print(\"Accuracy Score LDA:\", accuracy_score(lda_pred,Test_y)*100)\n",
        "\n",
        "# SVM = SVC(C=1.0,kernel='linear',degree = 3, gamma = 'auto')\n",
        "# SVM.fit(train_x_full, Train_y)\n",
        "# pred_svm = SVM.predict(test_x_full)\n",
        "# print(\"Accuracy Score SVM:\", accuracy_score(pred_svm,Test_y)*100)"
      ],
      "metadata": {
        "id": "g7yvnu0KKyy1"
      },
      "execution_count": 44,
      "outputs": []
    },
    {
      "cell_type": "code",
      "source": [
        "# train_x_tfidf_stdcmnt_df = pd.DataFrame(train_x_tfidf_stdcmnt.toarray()).reset_index(drop=True)\n",
        "# train_x_tfidf_prntcmnt_df = pd.DataFrame(train_x_tfidf_prntcmnt.toarray()).reset_index(drop=True)\n",
        "# train_x_enccols = Train_X.drop(columns=['comment_cln','parent_comment_cln']).reset_index()\n",
        "\n",
        "# print(train_x_tfidf_stdcmnt_df.shape,train_x_tfidf_stdcmnt_df.shape, train_x_enccols.shape)\n",
        "\n",
        "# train_x_full = pd.concat([train_x_tfidf_stdcmnt_df,train_x_enccols],axis=1,ignore_index=True)\n",
        "\n",
        "\n",
        "# test_x_tfid_stdcmnt_df = pd.DataFrame(test_x_tfid_stdcmnt.toarray()).reset_index(drop=True)\n",
        "# test_x_tfidf_prntcmnt_df = pd.DataFrame(test_x_tfidf_prntcmnt.toarray()).reset_index(drop=True)\n",
        "# test_x_enccols = Test_X.drop(columns=['comment_cln','parent_comment_cln']).reset_index()\n",
        "\n",
        "# print(test_x_tfid_stdcmnt_df.shape,test_x_tfidf_prntcmnt_df.shape, test_x_enccols.shape)\n",
        "\n",
        "# test_x_full = pd.concat([test_x_tfid_stdcmnt_df,test_x_enccols],axis=1,ignore_index=True)\n",
        "\n",
        "# lr_model = LogisticRegression(C=1.0)\n",
        "# lr_model.fit(train_x_full, Train_y)\n",
        "# pred_lr = lr_model.predict(test_x_full)\n",
        "# print(\"Accuracy Score LR:\", accuracy_score(pred_lr,Test_y)*100)\n",
        "\n",
        "# gnb_classifier = GaussianNB()\n",
        "# gnb_classifier.fit(train_x_full, Train_y)\n",
        "# gnb_pred  =  gnb_classifier.predict(test_x_full)\n",
        "# print(\"Accuracy Score GaussianNB:\", accuracy_score(gnb_pred,Test_y)*100)\n",
        "\n",
        "# lda_model = LinearDiscriminantAnalysis(n_components=2)\n",
        "# lda_model.fit(train_x_full, Train_y)\n",
        "# lda_pred = lda_model.predict(test_x_full)\n",
        "# print(\"Accuracy Score LDA:\", accuracy_score(lda_pred,Test_y)*100)\n",
        "\n",
        "\n",
        "# SVM = SVC(C=1.0,kernel='linear',degree = 3, gamma = 'auto')\n",
        "# SVM.fit(train_x_full, Train_y)\n",
        "# pred_svm = SVM.predict(test_x_full)\n",
        "# print(\"Accuracy Score SVM:\", accuracy_score(pred_svm,Test_y)*100)"
      ],
      "metadata": {
        "id": "7Yo-VrQ-PnEH"
      },
      "execution_count": 45,
      "outputs": []
    },
    {
      "cell_type": "code",
      "source": [
        "# train_x_tfidf_stdcmnt_df = pd.DataFrame(train_x_tfidf_stdcmnt.toarray()).reset_index(drop=True)\n",
        "# train_x_tfidf_prntcmnt_df = pd.DataFrame(train_x_tfidf_prntcmnt.toarray()).reset_index(drop=True)\n",
        "# train_x_enccols = Train_X.drop(columns=['comment_cln','parent_comment_cln']).reset_index()\n",
        "\n",
        "# print(train_x_tfidf_stdcmnt_df.shape,train_x_tfidf_stdcmnt_df.shape, train_x_enccols.shape)\n",
        "\n",
        "# train_x_full = pd.concat([train_x_tfidf_stdcmnt_df,train_x_enccols],axis=1,ignore_index=True)\n",
        "\n",
        "\n",
        "# test_x_tfid_stdcmnt_df = pd.DataFrame(test_x_tfid_stdcmnt.toarray()).reset_index(drop=True)\n",
        "# test_x_tfidf_prntcmnt_df = pd.DataFrame(test_x_tfidf_prntcmnt.toarray()).reset_index(drop=True)\n",
        "# test_x_enccols = Test_X.drop(columns=['comment_cln','parent_comment_cln']).reset_index()\n",
        "\n",
        "# print(test_x_tfid_stdcmnt_df.shape,test_x_tfidf_prntcmnt_df.shape, test_x_enccols.shape)\n",
        "\n",
        "# test_x_full = pd.concat([test_x_tfid_stdcmnt_df,test_x_enccols],axis=1,ignore_index=True)\n",
        "\n",
        "lr_model = LogisticRegression(C=1.0)\n",
        "lr_model.fit(train_x_tfidf_stdcmnt, Train_y)\n",
        "pred_lr = lr_model.predict(test_x_tfid_stdcmnt)\n",
        "print(\"Accuracy Score LR:\", accuracy_score(pred_lr,Test_y)*100)\n",
        "\n",
        "SVM = SVC(C=1.0,kernel='linear',degree = 3, gamma = 'auto')\n",
        "SVM.fit(train_x_tfidf_stdcmnt, Train_y)\n",
        "pred_svm = SVM.predict(test_x_tfid_stdcmnt)\n",
        "print(\"Accuracy Score SVM:\", accuracy_score(pred_svm,Test_y)*100)\n",
        "\n",
        "gnb_classifier = GaussianNB()\n",
        "gnb_classifier.fit(train_x_tfidf_stdcmnt.toarray(), Train_y)\n",
        "gnb_pred  =  gnb_classifier.predict(test_x_tfid_stdcmnt.toarray())\n",
        "print(\"Accuracy Score GaussianNB:\", accuracy_score(gnb_pred,Test_y)*100)\n",
        "\n",
        "lda_model = LinearDiscriminantAnalysis(n_components=1)\n",
        "lda_model.fit(train_x_tfidf_stdcmnt.toarray(), Train_y)\n",
        "lda_pred = lda_model.predict(test_x_tfid_stdcmnt.toarray())\n",
        "print(\"Accuracy Score LDA:\", accuracy_score(lda_pred,Test_y)*100)\n",
        "\n",
        "rfc_model = RandomForestClassifier(n_estimators = 300) \n",
        "rfc_model.fit(train_x_tfidf_stdcmnt, Train_y)\n",
        "rfc_pred = rfc_model.predict(test_x_tfid_stdcmnt)\n",
        "print(\"Accuracy Score RFC:\", accuracy_score(rfc_pred,Test_y)*100)"
      ],
      "metadata": {
        "id": "2WKzC5C_dlXw",
        "colab": {
          "base_uri": "https://localhost:8080/"
        },
        "outputId": "b554b7e7-c8ed-420a-fd78-dae278663644"
      },
      "execution_count": 50,
      "outputs": [
        {
          "output_type": "stream",
          "name": "stdout",
          "text": [
            "Accuracy Score LR: 62.66666666666667\n",
            "Accuracy Score SVM: 61.519999999999996\n",
            "Accuracy Score GaussianNB: 54.05333333333333\n",
            "Accuracy Score LDA: 58.50666666666666\n",
            "Accuracy Score RFC: 62.346666666666664\n"
          ]
        }
      ]
    },
    {
      "cell_type": "code",
      "source": [
        "train_x_tfidf_stdcmnt_df = pd.DataFrame(train_x_tfidf_stdcmnt.toarray()).reset_index(drop=True)\n",
        "train_x_tfidf_prntcmnt_df = pd.DataFrame(train_x_tfidf_prntcmnt.toarray()).reset_index(drop=True)\n",
        "train_x_enccols = Train_X.drop(columns=['comment_cln','parent_comment_cln']).reset_index()\n",
        "\n",
        "print(train_x_tfidf_stdcmnt_df.shape,train_x_tfidf_stdcmnt_df.shape, train_x_enccols.shape)\n",
        "\n",
        "train_x_full = pd.concat([train_x_tfidf_stdcmnt_df,train_x_enccols],axis=1,ignore_index=True)\n",
        "\n",
        "\n",
        "test_x_tfid_stdcmnt_df = pd.DataFrame(test_x_tfid_stdcmnt.toarray()).reset_index(drop=True)\n",
        "test_x_tfidf_prntcmnt_df = pd.DataFrame(test_x_tfidf_prntcmnt.toarray()).reset_index(drop=True)\n",
        "test_x_enccols = Test_X.drop(columns=['comment_cln','parent_comment_cln']).reset_index()\n",
        "\n",
        "print(test_x_tfid_stdcmnt_df.shape,test_x_tfidf_prntcmnt_df.shape, test_x_enccols.shape)\n",
        "\n",
        "test_x_full = pd.concat([test_x_tfid_stdcmnt_df,test_x_enccols],axis=1,ignore_index=True)\n",
        "\n",
        "lr_model = LogisticRegression(C=1.0)\n",
        "lr_model.fit(train_x_full, Train_y)\n",
        "pred_lr = lr_model.predict(test_x_full)\n",
        "print(\"Accuracy Score LR:\", accuracy_score(pred_lr,Test_y)*100)\n",
        "\n",
        "\n",
        "SVM = SVC(C=1.0,kernel='linear',degree = 3, gamma = 'auto')\n",
        "SVM.fit(train_x_full, Train_y)\n",
        "pred_svm = SVM.predict(test_x_full)\n",
        "print(\"Accuracy Score SVM:\", accuracy_score(pred_svm,Test_y)*100)\n",
        "\n",
        "gnb_classifier = GaussianNB()\n",
        "gnb_classifier.fit(train_x_full, Train_y)\n",
        "gnb_pred  =  gnb_classifier.predict(test_x_full)\n",
        "print(\"Accuracy Score GaussianNB:\", accuracy_score(gnb_pred,Test_y)*100)\n",
        "\n",
        "lda_model = LinearDiscriminantAnalysis(n_components=1)\n",
        "lda_model.fit(train_x_full, Train_y)\n",
        "lda_pred = lda_model.predict(test_x_full)\n",
        "print(\"Accuracy Score LDA:\", accuracy_score(lda_pred,Test_y)*100)\n",
        "\n",
        "rfc_model = RandomForestClassifier(n_estimators = 300) \n",
        "rfc_model.fit(train_x_full, Train_y)\n",
        "rfc_pred = rfc_model.predict(test_x_full)\n",
        "print(\"Accuracy Score RFC:\", accuracy_score(rfc_pred,Test_y)*100)"
      ],
      "metadata": {
        "colab": {
          "base_uri": "https://localhost:8080/"
        },
        "id": "MBzamK2iUe6I",
        "outputId": "713937ee-38ff-47d9-92f6-ac54d5dcc5be"
      },
      "execution_count": null,
      "outputs": [
        {
          "output_type": "stream",
          "name": "stdout",
          "text": [
            "(11250, 5000) (11250, 5000) (11250, 2273)\n",
            "(3750, 5000) (3750, 5000) (3750, 2273)\n",
            "Accuracy Score LR: 56.00000000000001\n"
          ]
        }
      ]
    },
    {
      "cell_type": "code",
      "source": [
        "# lr_model = LogisticRegression(C=1.0)\n",
        "# lr_model.fit(train_x_full, Train_y)\n",
        "# pred_lr = lr_model.predict(test_x_full)\n",
        "# print(\"Accuracy Score :\", accuracy_score(pred_lr,Test_y)*100)"
      ],
      "metadata": {
        "id": "cVmmTt0DQI6V"
      },
      "execution_count": null,
      "outputs": []
    },
    {
      "cell_type": "code",
      "source": [
        "# SVM = SVC(C=1.0,kernel='linear',degree = 3, gamma = 'auto')\n",
        "# SVM.fit(train_x_full, Train_y)\n",
        "# pred_svm = SVM.predict(test_x_full)\n",
        "# print(\"Accuracy Score :\", accuracy_score(pred_svm,Test_y)*100)"
      ],
      "metadata": {
        "id": "fLj3LbgNWDLu"
      },
      "execution_count": null,
      "outputs": []
    },
    {
      "cell_type": "code",
      "source": [
        "\n",
        "# gnb_classifier = GaussianNB()\n",
        "# gnb_classifier.fit(train_x_tfidf_stdcmnt, Train_y)\n",
        "# gnb_pred  =  gnb_classifier.predict(test_x_tfid_stdcmnt)\n",
        "# print(\"Accuracy Score GaussianNB:\", accuracy_score(gnb_pred,Test_y)*100)\n",
        "\n",
        "\n",
        "# lda_model = LinearDiscriminantAnalysis()\n",
        "# lda_model.fit(train_x_tfidf_stdcmnt, Train_y)\n",
        "# lda_pred = lda_model.predict(test_x_tfid_stdcmnt)\n",
        "# print(\"Accuracy Score LDA:\", accuracy_score(lda_pred,Test_y)*100)\n",
        "\n",
        "\n"
      ],
      "metadata": {
        "id": "jmS2mF8JWv02"
      },
      "execution_count": null,
      "outputs": []
    },
    {
      "cell_type": "code",
      "source": [
        "\n",
        "# # creating a RF classifier\n",
        "# clf = RandomForestClassifier(n_estimators = 100) \n",
        " \n",
        "# # Training the model on the training dataset\n",
        "# # fit function is used to train the model using the training sets as parameters\n",
        "# clf.fit(X_train, y_train)\n",
        " \n",
        "# # performing predictions on the test dataset\n",
        "# y_pred = clf.predict(X_test)"
      ],
      "metadata": {
        "id": "zPyyzBfYYL6R"
      },
      "execution_count": null,
      "outputs": []
    }
  ],
  "metadata": {
    "kernelspec": {
      "display_name": "Python 3",
      "language": "python",
      "name": "python3"
    },
    "language_info": {
      "codemirror_mode": {
        "name": "ipython",
        "version": 3
      },
      "file_extension": ".py",
      "mimetype": "text/x-python",
      "name": "python",
      "nbconvert_exporter": "python",
      "pygments_lexer": "ipython3",
      "version": "3.8.5"
    },
    "colab": {
      "name": "NLP_MiniProject_RakeshPA.ipynb",
      "provenance": [],
      "collapsed_sections": [],
      "machine_shape": "hm",
      "include_colab_link": true
    },
    "accelerator": "GPU",
    "gpuClass": "standard"
  },
  "nbformat": 4,
  "nbformat_minor": 0
}